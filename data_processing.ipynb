{
 "cells": [
  {
   "cell_type": "code",
   "execution_count": 22,
   "metadata": {
    "id": "XWMys2rP9SSe"
   },
   "outputs": [],
   "source": [
    "from skimage import io\n",
    "from skimage.transform import resize\n",
    "import skimage\n",
    "import matplotlib.pyplot as plt\n",
    "import pandas as pd\n",
    "import numpy as np\n",
    "import os\n",
    "import cv2\n",
    "from ast import literal_eval\n",
    "from skimage.util import crop\n",
    "import re\n",
    "from keras.preprocessing.sequence import pad_sequences\n",
    "from sklearn.model_selection import train_test_split\n",
    "from PIL import Image, ImageOps\n",
    "import math\n",
    "from scipy import ndimage\n",
    "import traceback"
   ]
  },
  {
   "cell_type": "code",
   "execution_count": 2,
   "metadata": {
    "id": "ZWPbGin2J-LX"
   },
   "outputs": [],
   "source": [
    "img = pd.read_csv('img.csv')"
   ]
  },
  {
   "cell_type": "code",
   "execution_count": 38,
   "metadata": {
    "id": "gY1Ln2GQWXWG"
   },
   "outputs": [
    {
     "data": {
      "text/html": [
       "<div>\n",
       "<style scoped>\n",
       "    .dataframe tbody tr th:only-of-type {\n",
       "        vertical-align: middle;\n",
       "    }\n",
       "\n",
       "    .dataframe tbody tr th {\n",
       "        vertical-align: top;\n",
       "    }\n",
       "\n",
       "    .dataframe thead th {\n",
       "        text-align: right;\n",
       "    }\n",
       "</style>\n",
       "<table border=\"1\" class=\"dataframe\">\n",
       "  <thead>\n",
       "    <tr style=\"text-align: right;\">\n",
       "      <th></th>\n",
       "      <th>Unnamed: 0</th>\n",
       "      <th>id</th>\n",
       "      <th>width</th>\n",
       "      <th>height</th>\n",
       "      <th>set</th>\n",
       "      <th>file_name</th>\n",
       "    </tr>\n",
       "  </thead>\n",
       "  <tbody>\n",
       "    <tr>\n",
       "      <th>0</th>\n",
       "      <td>0</td>\n",
       "      <td>a4ea732cd3d5948a</td>\n",
       "      <td>840</td>\n",
       "      <td>1024</td>\n",
       "      <td>train</td>\n",
       "      <td>train/a4ea732cd3d5948a.jpg</td>\n",
       "    </tr>\n",
       "    <tr>\n",
       "      <th>1</th>\n",
       "      <td>1</td>\n",
       "      <td>4bf43a7b2a898044</td>\n",
       "      <td>1024</td>\n",
       "      <td>683</td>\n",
       "      <td>train</td>\n",
       "      <td>train/4bf43a7b2a898044.jpg</td>\n",
       "    </tr>\n",
       "    <tr>\n",
       "      <th>2</th>\n",
       "      <td>2</td>\n",
       "      <td>1b55b309b0f50d02</td>\n",
       "      <td>1024</td>\n",
       "      <td>683</td>\n",
       "      <td>train</td>\n",
       "      <td>train/1b55b309b0f50d02.jpg</td>\n",
       "    </tr>\n",
       "    <tr>\n",
       "      <th>3</th>\n",
       "      <td>3</td>\n",
       "      <td>00c359f294f7dcd9</td>\n",
       "      <td>1024</td>\n",
       "      <td>680</td>\n",
       "      <td>train</td>\n",
       "      <td>train/00c359f294f7dcd9.jpg</td>\n",
       "    </tr>\n",
       "    <tr>\n",
       "      <th>4</th>\n",
       "      <td>4</td>\n",
       "      <td>04b5a37f762b0f51</td>\n",
       "      <td>768</td>\n",
       "      <td>1024</td>\n",
       "      <td>train</td>\n",
       "      <td>train/04b5a37f762b0f51.jpg</td>\n",
       "    </tr>\n",
       "    <tr>\n",
       "      <th>...</th>\n",
       "      <td>...</td>\n",
       "      <td>...</td>\n",
       "      <td>...</td>\n",
       "      <td>...</td>\n",
       "      <td>...</td>\n",
       "      <td>...</td>\n",
       "    </tr>\n",
       "    <tr>\n",
       "      <th>21773</th>\n",
       "      <td>21773</td>\n",
       "      <td>d13b7ec72bd5eed5</td>\n",
       "      <td>1024</td>\n",
       "      <td>683</td>\n",
       "      <td>train</td>\n",
       "      <td>train/d13b7ec72bd5eed5.jpg</td>\n",
       "    </tr>\n",
       "    <tr>\n",
       "      <th>21774</th>\n",
       "      <td>21774</td>\n",
       "      <td>0022933cdceee189</td>\n",
       "      <td>1024</td>\n",
       "      <td>554</td>\n",
       "      <td>train</td>\n",
       "      <td>train/0022933cdceee189.jpg</td>\n",
       "    </tr>\n",
       "    <tr>\n",
       "      <th>21775</th>\n",
       "      <td>21775</td>\n",
       "      <td>6029c75e0325d164</td>\n",
       "      <td>1024</td>\n",
       "      <td>768</td>\n",
       "      <td>train</td>\n",
       "      <td>train/6029c75e0325d164.jpg</td>\n",
       "    </tr>\n",
       "    <tr>\n",
       "      <th>21776</th>\n",
       "      <td>21776</td>\n",
       "      <td>0ebbecdc46b78d42</td>\n",
       "      <td>1024</td>\n",
       "      <td>681</td>\n",
       "      <td>train</td>\n",
       "      <td>train/0ebbecdc46b78d42.jpg</td>\n",
       "    </tr>\n",
       "    <tr>\n",
       "      <th>21777</th>\n",
       "      <td>21777</td>\n",
       "      <td>a37e1fb026b80a6d</td>\n",
       "      <td>1024</td>\n",
       "      <td>683</td>\n",
       "      <td>train</td>\n",
       "      <td>train/a37e1fb026b80a6d.jpg</td>\n",
       "    </tr>\n",
       "  </tbody>\n",
       "</table>\n",
       "<p>21778 rows × 6 columns</p>\n",
       "</div>"
      ],
      "text/plain": [
       "       Unnamed: 0                id  width  height    set  \\\n",
       "0               0  a4ea732cd3d5948a    840    1024  train   \n",
       "1               1  4bf43a7b2a898044   1024     683  train   \n",
       "2               2  1b55b309b0f50d02   1024     683  train   \n",
       "3               3  00c359f294f7dcd9   1024     680  train   \n",
       "4               4  04b5a37f762b0f51    768    1024  train   \n",
       "...           ...               ...    ...     ...    ...   \n",
       "21773       21773  d13b7ec72bd5eed5   1024     683  train   \n",
       "21774       21774  0022933cdceee189   1024     554  train   \n",
       "21775       21775  6029c75e0325d164   1024     768  train   \n",
       "21776       21776  0ebbecdc46b78d42   1024     681  train   \n",
       "21777       21777  a37e1fb026b80a6d   1024     683  train   \n",
       "\n",
       "                        file_name  \n",
       "0      train/a4ea732cd3d5948a.jpg  \n",
       "1      train/4bf43a7b2a898044.jpg  \n",
       "2      train/1b55b309b0f50d02.jpg  \n",
       "3      train/00c359f294f7dcd9.jpg  \n",
       "4      train/04b5a37f762b0f51.jpg  \n",
       "...                           ...  \n",
       "21773  train/d13b7ec72bd5eed5.jpg  \n",
       "21774  train/0022933cdceee189.jpg  \n",
       "21775  train/6029c75e0325d164.jpg  \n",
       "21776  train/0ebbecdc46b78d42.jpg  \n",
       "21777  train/a37e1fb026b80a6d.jpg  \n",
       "\n",
       "[21778 rows x 6 columns]"
      ]
     },
     "execution_count": 38,
     "metadata": {},
     "output_type": "execute_result"
    }
   ],
   "source": [
    "img"
   ]
  },
  {
   "cell_type": "code",
   "execution_count": null,
   "metadata": {
    "id": "wU0JBsbDiW66"
   },
   "outputs": [],
   "source": []
  },
  {
   "cell_type": "code",
   "execution_count": 3,
   "metadata": {
    "id": "lHzFRSc0Is59"
   },
   "outputs": [],
   "source": [
    "annot = pd.read_csv('annot_final.csv')"
   ]
  },
  {
   "cell_type": "code",
   "execution_count": null,
   "metadata": {
    "id": "GDVU6w-ciY6e"
   },
   "outputs": [],
   "source": []
  },
  {
   "cell_type": "code",
   "execution_count": null,
   "metadata": {
    "colab": {
     "base_uri": "https://localhost:8080/",
     "height": 293
    },
    "id": "sDXRAYl_Jl4f",
    "outputId": "667d9e06-586c-48f4-f9d8-120c5575f1d3"
   },
   "outputs": [
    {
     "data": {
      "text/html": [
       "\n",
       "  <div id=\"df-fd634da5-eba0-4fef-87a1-8a7e5aac1fab\" class=\"colab-df-container\">\n",
       "    <div>\n",
       "<style scoped>\n",
       "    .dataframe tbody tr th:only-of-type {\n",
       "        vertical-align: middle;\n",
       "    }\n",
       "\n",
       "    .dataframe tbody tr th {\n",
       "        vertical-align: top;\n",
       "    }\n",
       "\n",
       "    .dataframe thead th {\n",
       "        text-align: right;\n",
       "    }\n",
       "</style>\n",
       "<table border=\"1\" class=\"dataframe\">\n",
       "  <thead>\n",
       "    <tr style=\"text-align: right;\">\n",
       "      <th></th>\n",
       "      <th>id</th>\n",
       "      <th>image_id</th>\n",
       "      <th>bbox</th>\n",
       "      <th>utf8_string</th>\n",
       "      <th>points</th>\n",
       "      <th>area</th>\n",
       "    </tr>\n",
       "  </thead>\n",
       "  <tbody>\n",
       "    <tr>\n",
       "      <th>0</th>\n",
       "      <td>a4ea732cd3d5948a_1</td>\n",
       "      <td>a4ea732cd3d5948a</td>\n",
       "      <td>[525.83, 3.4, 197.64, 33.94]</td>\n",
       "      <td>Performance</td>\n",
       "      <td>[525.83, 3.4, 723.47, 7.29, 722.76, 36.99, 525...</td>\n",
       "      <td>6707.90</td>\n",
       "    </tr>\n",
       "    <tr>\n",
       "      <th>1</th>\n",
       "      <td>a4ea732cd3d5948a_2</td>\n",
       "      <td>a4ea732cd3d5948a</td>\n",
       "      <td>[534.67, 64.68, 91.22, 38.19]</td>\n",
       "      <td>Sport</td>\n",
       "      <td>[535.73, 64.68, 623.41, 67.51, 625.89, 102.87,...</td>\n",
       "      <td>3483.69</td>\n",
       "    </tr>\n",
       "    <tr>\n",
       "      <th>2</th>\n",
       "      <td>a4ea732cd3d5948a_3</td>\n",
       "      <td>a4ea732cd3d5948a</td>\n",
       "      <td>[626.95, 63.62, 96.52, 31.82]</td>\n",
       "      <td>Watch</td>\n",
       "      <td>[626.95, 63.62, 721.7, 63.62, 723.47, 95.44, 6...</td>\n",
       "      <td>3071.27</td>\n",
       "    </tr>\n",
       "    <tr>\n",
       "      <th>3</th>\n",
       "      <td>a4ea732cd3d5948a_4</td>\n",
       "      <td>a4ea732cd3d5948a</td>\n",
       "      <td>[577.4, 141.87, 147.13, 43.1]</td>\n",
       "      <td>...period.</td>\n",
       "      <td>[580.02, 143.61, 724.53, 141.87, 723.66, 184.9...</td>\n",
       "      <td>6341.30</td>\n",
       "    </tr>\n",
       "    <tr>\n",
       "      <th>4</th>\n",
       "      <td>a4ea732cd3d5948a_5</td>\n",
       "      <td>a4ea732cd3d5948a</td>\n",
       "      <td>[391.03, 163.9, 60.82, 38.65]</td>\n",
       "      <td>.</td>\n",
       "      <td>[395.2, 163.9, 451.85, 191.94, 445.59, 202.55,...</td>\n",
       "      <td>2350.69</td>\n",
       "    </tr>\n",
       "  </tbody>\n",
       "</table>\n",
       "</div>\n",
       "    <div class=\"colab-df-buttons\">\n",
       "\n",
       "  <div class=\"colab-df-container\">\n",
       "    <button class=\"colab-df-convert\" onclick=\"convertToInteractive('df-fd634da5-eba0-4fef-87a1-8a7e5aac1fab')\"\n",
       "            title=\"Convert this dataframe to an interactive table.\"\n",
       "            style=\"display:none;\">\n",
       "\n",
       "  <svg xmlns=\"http://www.w3.org/2000/svg\" height=\"24px\" viewBox=\"0 -960 960 960\">\n",
       "    <path d=\"M120-120v-720h720v720H120Zm60-500h600v-160H180v160Zm220 220h160v-160H400v160Zm0 220h160v-160H400v160ZM180-400h160v-160H180v160Zm440 0h160v-160H620v160ZM180-180h160v-160H180v160Zm440 0h160v-160H620v160Z\"/>\n",
       "  </svg>\n",
       "    </button>\n",
       "\n",
       "  <style>\n",
       "    .colab-df-container {\n",
       "      display:flex;\n",
       "      gap: 12px;\n",
       "    }\n",
       "\n",
       "    .colab-df-convert {\n",
       "      background-color: #E8F0FE;\n",
       "      border: none;\n",
       "      border-radius: 50%;\n",
       "      cursor: pointer;\n",
       "      display: none;\n",
       "      fill: #1967D2;\n",
       "      height: 32px;\n",
       "      padding: 0 0 0 0;\n",
       "      width: 32px;\n",
       "    }\n",
       "\n",
       "    .colab-df-convert:hover {\n",
       "      background-color: #E2EBFA;\n",
       "      box-shadow: 0px 1px 2px rgba(60, 64, 67, 0.3), 0px 1px 3px 1px rgba(60, 64, 67, 0.15);\n",
       "      fill: #174EA6;\n",
       "    }\n",
       "\n",
       "    .colab-df-buttons div {\n",
       "      margin-bottom: 4px;\n",
       "    }\n",
       "\n",
       "    [theme=dark] .colab-df-convert {\n",
       "      background-color: #3B4455;\n",
       "      fill: #D2E3FC;\n",
       "    }\n",
       "\n",
       "    [theme=dark] .colab-df-convert:hover {\n",
       "      background-color: #434B5C;\n",
       "      box-shadow: 0px 1px 3px 1px rgba(0, 0, 0, 0.15);\n",
       "      filter: drop-shadow(0px 1px 2px rgba(0, 0, 0, 0.3));\n",
       "      fill: #FFFFFF;\n",
       "    }\n",
       "  </style>\n",
       "\n",
       "    <script>\n",
       "      const buttonEl =\n",
       "        document.querySelector('#df-fd634da5-eba0-4fef-87a1-8a7e5aac1fab button.colab-df-convert');\n",
       "      buttonEl.style.display =\n",
       "        google.colab.kernel.accessAllowed ? 'block' : 'none';\n",
       "\n",
       "      async function convertToInteractive(key) {\n",
       "        const element = document.querySelector('#df-fd634da5-eba0-4fef-87a1-8a7e5aac1fab');\n",
       "        const dataTable =\n",
       "          await google.colab.kernel.invokeFunction('convertToInteractive',\n",
       "                                                    [key], {});\n",
       "        if (!dataTable) return;\n",
       "\n",
       "        const docLinkHtml = 'Like what you see? Visit the ' +\n",
       "          '<a target=\"_blank\" href=https://colab.research.google.com/notebooks/data_table.ipynb>data table notebook</a>'\n",
       "          + ' to learn more about interactive tables.';\n",
       "        element.innerHTML = '';\n",
       "        dataTable['output_type'] = 'display_data';\n",
       "        await google.colab.output.renderOutput(dataTable, element);\n",
       "        const docLink = document.createElement('div');\n",
       "        docLink.innerHTML = docLinkHtml;\n",
       "        element.appendChild(docLink);\n",
       "      }\n",
       "    </script>\n",
       "  </div>\n",
       "\n",
       "\n",
       "<div id=\"df-a0b2d9ea-48b5-4d72-8f08-5a5d00fa7722\">\n",
       "  <button class=\"colab-df-quickchart\" onclick=\"quickchart('df-a0b2d9ea-48b5-4d72-8f08-5a5d00fa7722')\"\n",
       "            title=\"Suggest charts\"\n",
       "            style=\"display:none;\">\n",
       "\n",
       "<svg xmlns=\"http://www.w3.org/2000/svg\" height=\"24px\"viewBox=\"0 0 24 24\"\n",
       "     width=\"24px\">\n",
       "    <g>\n",
       "        <path d=\"M19 3H5c-1.1 0-2 .9-2 2v14c0 1.1.9 2 2 2h14c1.1 0 2-.9 2-2V5c0-1.1-.9-2-2-2zM9 17H7v-7h2v7zm4 0h-2V7h2v10zm4 0h-2v-4h2v4z\"/>\n",
       "    </g>\n",
       "</svg>\n",
       "  </button>\n",
       "\n",
       "<style>\n",
       "  .colab-df-quickchart {\n",
       "      --bg-color: #E8F0FE;\n",
       "      --fill-color: #1967D2;\n",
       "      --hover-bg-color: #E2EBFA;\n",
       "      --hover-fill-color: #174EA6;\n",
       "      --disabled-fill-color: #AAA;\n",
       "      --disabled-bg-color: #DDD;\n",
       "  }\n",
       "\n",
       "  [theme=dark] .colab-df-quickchart {\n",
       "      --bg-color: #3B4455;\n",
       "      --fill-color: #D2E3FC;\n",
       "      --hover-bg-color: #434B5C;\n",
       "      --hover-fill-color: #FFFFFF;\n",
       "      --disabled-bg-color: #3B4455;\n",
       "      --disabled-fill-color: #666;\n",
       "  }\n",
       "\n",
       "  .colab-df-quickchart {\n",
       "    background-color: var(--bg-color);\n",
       "    border: none;\n",
       "    border-radius: 50%;\n",
       "    cursor: pointer;\n",
       "    display: none;\n",
       "    fill: var(--fill-color);\n",
       "    height: 32px;\n",
       "    padding: 0;\n",
       "    width: 32px;\n",
       "  }\n",
       "\n",
       "  .colab-df-quickchart:hover {\n",
       "    background-color: var(--hover-bg-color);\n",
       "    box-shadow: 0 1px 2px rgba(60, 64, 67, 0.3), 0 1px 3px 1px rgba(60, 64, 67, 0.15);\n",
       "    fill: var(--button-hover-fill-color);\n",
       "  }\n",
       "\n",
       "  .colab-df-quickchart-complete:disabled,\n",
       "  .colab-df-quickchart-complete:disabled:hover {\n",
       "    background-color: var(--disabled-bg-color);\n",
       "    fill: var(--disabled-fill-color);\n",
       "    box-shadow: none;\n",
       "  }\n",
       "\n",
       "  .colab-df-spinner {\n",
       "    border: 2px solid var(--fill-color);\n",
       "    border-color: transparent;\n",
       "    border-bottom-color: var(--fill-color);\n",
       "    animation:\n",
       "      spin 1s steps(1) infinite;\n",
       "  }\n",
       "\n",
       "  @keyframes spin {\n",
       "    0% {\n",
       "      border-color: transparent;\n",
       "      border-bottom-color: var(--fill-color);\n",
       "      border-left-color: var(--fill-color);\n",
       "    }\n",
       "    20% {\n",
       "      border-color: transparent;\n",
       "      border-left-color: var(--fill-color);\n",
       "      border-top-color: var(--fill-color);\n",
       "    }\n",
       "    30% {\n",
       "      border-color: transparent;\n",
       "      border-left-color: var(--fill-color);\n",
       "      border-top-color: var(--fill-color);\n",
       "      border-right-color: var(--fill-color);\n",
       "    }\n",
       "    40% {\n",
       "      border-color: transparent;\n",
       "      border-right-color: var(--fill-color);\n",
       "      border-top-color: var(--fill-color);\n",
       "    }\n",
       "    60% {\n",
       "      border-color: transparent;\n",
       "      border-right-color: var(--fill-color);\n",
       "    }\n",
       "    80% {\n",
       "      border-color: transparent;\n",
       "      border-right-color: var(--fill-color);\n",
       "      border-bottom-color: var(--fill-color);\n",
       "    }\n",
       "    90% {\n",
       "      border-color: transparent;\n",
       "      border-bottom-color: var(--fill-color);\n",
       "    }\n",
       "  }\n",
       "</style>\n",
       "\n",
       "  <script>\n",
       "    async function quickchart(key) {\n",
       "      const quickchartButtonEl =\n",
       "        document.querySelector('#' + key + ' button');\n",
       "      quickchartButtonEl.disabled = true;  // To prevent multiple clicks.\n",
       "      quickchartButtonEl.classList.add('colab-df-spinner');\n",
       "      try {\n",
       "        const charts = await google.colab.kernel.invokeFunction(\n",
       "            'suggestCharts', [key], {});\n",
       "      } catch (error) {\n",
       "        console.error('Error during call to suggestCharts:', error);\n",
       "      }\n",
       "      quickchartButtonEl.classList.remove('colab-df-spinner');\n",
       "      quickchartButtonEl.classList.add('colab-df-quickchart-complete');\n",
       "    }\n",
       "    (() => {\n",
       "      let quickchartButtonEl =\n",
       "        document.querySelector('#df-a0b2d9ea-48b5-4d72-8f08-5a5d00fa7722 button');\n",
       "      quickchartButtonEl.style.display =\n",
       "        google.colab.kernel.accessAllowed ? 'block' : 'none';\n",
       "    })();\n",
       "  </script>\n",
       "</div>\n",
       "\n",
       "    </div>\n",
       "  </div>\n"
      ],
      "text/plain": [
       "                   id          image_id                           bbox  \\\n",
       "0  a4ea732cd3d5948a_1  a4ea732cd3d5948a   [525.83, 3.4, 197.64, 33.94]   \n",
       "1  a4ea732cd3d5948a_2  a4ea732cd3d5948a  [534.67, 64.68, 91.22, 38.19]   \n",
       "2  a4ea732cd3d5948a_3  a4ea732cd3d5948a  [626.95, 63.62, 96.52, 31.82]   \n",
       "3  a4ea732cd3d5948a_4  a4ea732cd3d5948a  [577.4, 141.87, 147.13, 43.1]   \n",
       "4  a4ea732cd3d5948a_5  a4ea732cd3d5948a  [391.03, 163.9, 60.82, 38.65]   \n",
       "\n",
       "   utf8_string                                             points     area  \n",
       "0  Performance  [525.83, 3.4, 723.47, 7.29, 722.76, 36.99, 525...  6707.90  \n",
       "1        Sport  [535.73, 64.68, 623.41, 67.51, 625.89, 102.87,...  3483.69  \n",
       "2        Watch  [626.95, 63.62, 721.7, 63.62, 723.47, 95.44, 6...  3071.27  \n",
       "3   ...period.  [580.02, 143.61, 724.53, 141.87, 723.66, 184.9...  6341.30  \n",
       "4            .  [395.2, 163.9, 451.85, 191.94, 445.59, 202.55,...  2350.69  "
      ]
     },
     "execution_count": 16,
     "metadata": {},
     "output_type": "execute_result"
    }
   ],
   "source": []
  },
  {
   "cell_type": "code",
   "execution_count": null,
   "metadata": {
    "colab": {
     "base_uri": "https://localhost:8080/",
     "height": 206
    },
    "id": "yEFo8nNLKBdd",
    "outputId": "4de9068b-899f-4a58-dc7e-cc36dae56cb9"
   },
   "outputs": [
    {
     "data": {
      "text/html": [
       "\n",
       "  <div id=\"df-cc7bd406-75b1-4551-9823-ae02bb75bc11\" class=\"colab-df-container\">\n",
       "    <div>\n",
       "<style scoped>\n",
       "    .dataframe tbody tr th:only-of-type {\n",
       "        vertical-align: middle;\n",
       "    }\n",
       "\n",
       "    .dataframe tbody tr th {\n",
       "        vertical-align: top;\n",
       "    }\n",
       "\n",
       "    .dataframe thead th {\n",
       "        text-align: right;\n",
       "    }\n",
       "</style>\n",
       "<table border=\"1\" class=\"dataframe\">\n",
       "  <thead>\n",
       "    <tr style=\"text-align: right;\">\n",
       "      <th></th>\n",
       "      <th>image_id</th>\n",
       "      <th>width</th>\n",
       "      <th>height</th>\n",
       "      <th>set</th>\n",
       "      <th>file_name</th>\n",
       "    </tr>\n",
       "  </thead>\n",
       "  <tbody>\n",
       "    <tr>\n",
       "      <th>0</th>\n",
       "      <td>a4ea732cd3d5948a</td>\n",
       "      <td>840</td>\n",
       "      <td>1024</td>\n",
       "      <td>train</td>\n",
       "      <td>train/a4ea732cd3d5948a.jpg</td>\n",
       "    </tr>\n",
       "    <tr>\n",
       "      <th>1</th>\n",
       "      <td>4bf43a7b2a898044</td>\n",
       "      <td>1024</td>\n",
       "      <td>683</td>\n",
       "      <td>train</td>\n",
       "      <td>train/4bf43a7b2a898044.jpg</td>\n",
       "    </tr>\n",
       "    <tr>\n",
       "      <th>2</th>\n",
       "      <td>1b55b309b0f50d02</td>\n",
       "      <td>1024</td>\n",
       "      <td>683</td>\n",
       "      <td>train</td>\n",
       "      <td>train/1b55b309b0f50d02.jpg</td>\n",
       "    </tr>\n",
       "    <tr>\n",
       "      <th>3</th>\n",
       "      <td>00c359f294f7dcd9</td>\n",
       "      <td>1024</td>\n",
       "      <td>680</td>\n",
       "      <td>train</td>\n",
       "      <td>train/00c359f294f7dcd9.jpg</td>\n",
       "    </tr>\n",
       "    <tr>\n",
       "      <th>4</th>\n",
       "      <td>04b5a37f762b0f51</td>\n",
       "      <td>768</td>\n",
       "      <td>1024</td>\n",
       "      <td>train</td>\n",
       "      <td>train/04b5a37f762b0f51.jpg</td>\n",
       "    </tr>\n",
       "  </tbody>\n",
       "</table>\n",
       "</div>\n",
       "    <div class=\"colab-df-buttons\">\n",
       "\n",
       "  <div class=\"colab-df-container\">\n",
       "    <button class=\"colab-df-convert\" onclick=\"convertToInteractive('df-cc7bd406-75b1-4551-9823-ae02bb75bc11')\"\n",
       "            title=\"Convert this dataframe to an interactive table.\"\n",
       "            style=\"display:none;\">\n",
       "\n",
       "  <svg xmlns=\"http://www.w3.org/2000/svg\" height=\"24px\" viewBox=\"0 -960 960 960\">\n",
       "    <path d=\"M120-120v-720h720v720H120Zm60-500h600v-160H180v160Zm220 220h160v-160H400v160Zm0 220h160v-160H400v160ZM180-400h160v-160H180v160Zm440 0h160v-160H620v160ZM180-180h160v-160H180v160Zm440 0h160v-160H620v160Z\"/>\n",
       "  </svg>\n",
       "    </button>\n",
       "\n",
       "  <style>\n",
       "    .colab-df-container {\n",
       "      display:flex;\n",
       "      gap: 12px;\n",
       "    }\n",
       "\n",
       "    .colab-df-convert {\n",
       "      background-color: #E8F0FE;\n",
       "      border: none;\n",
       "      border-radius: 50%;\n",
       "      cursor: pointer;\n",
       "      display: none;\n",
       "      fill: #1967D2;\n",
       "      height: 32px;\n",
       "      padding: 0 0 0 0;\n",
       "      width: 32px;\n",
       "    }\n",
       "\n",
       "    .colab-df-convert:hover {\n",
       "      background-color: #E2EBFA;\n",
       "      box-shadow: 0px 1px 2px rgba(60, 64, 67, 0.3), 0px 1px 3px 1px rgba(60, 64, 67, 0.15);\n",
       "      fill: #174EA6;\n",
       "    }\n",
       "\n",
       "    .colab-df-buttons div {\n",
       "      margin-bottom: 4px;\n",
       "    }\n",
       "\n",
       "    [theme=dark] .colab-df-convert {\n",
       "      background-color: #3B4455;\n",
       "      fill: #D2E3FC;\n",
       "    }\n",
       "\n",
       "    [theme=dark] .colab-df-convert:hover {\n",
       "      background-color: #434B5C;\n",
       "      box-shadow: 0px 1px 3px 1px rgba(0, 0, 0, 0.15);\n",
       "      filter: drop-shadow(0px 1px 2px rgba(0, 0, 0, 0.3));\n",
       "      fill: #FFFFFF;\n",
       "    }\n",
       "  </style>\n",
       "\n",
       "    <script>\n",
       "      const buttonEl =\n",
       "        document.querySelector('#df-cc7bd406-75b1-4551-9823-ae02bb75bc11 button.colab-df-convert');\n",
       "      buttonEl.style.display =\n",
       "        google.colab.kernel.accessAllowed ? 'block' : 'none';\n",
       "\n",
       "      async function convertToInteractive(key) {\n",
       "        const element = document.querySelector('#df-cc7bd406-75b1-4551-9823-ae02bb75bc11');\n",
       "        const dataTable =\n",
       "          await google.colab.kernel.invokeFunction('convertToInteractive',\n",
       "                                                    [key], {});\n",
       "        if (!dataTable) return;\n",
       "\n",
       "        const docLinkHtml = 'Like what you see? Visit the ' +\n",
       "          '<a target=\"_blank\" href=https://colab.research.google.com/notebooks/data_table.ipynb>data table notebook</a>'\n",
       "          + ' to learn more about interactive tables.';\n",
       "        element.innerHTML = '';\n",
       "        dataTable['output_type'] = 'display_data';\n",
       "        await google.colab.output.renderOutput(dataTable, element);\n",
       "        const docLink = document.createElement('div');\n",
       "        docLink.innerHTML = docLinkHtml;\n",
       "        element.appendChild(docLink);\n",
       "      }\n",
       "    </script>\n",
       "  </div>\n",
       "\n",
       "\n",
       "<div id=\"df-7d00249d-dc67-42fb-b823-09551437b7c4\">\n",
       "  <button class=\"colab-df-quickchart\" onclick=\"quickchart('df-7d00249d-dc67-42fb-b823-09551437b7c4')\"\n",
       "            title=\"Suggest charts\"\n",
       "            style=\"display:none;\">\n",
       "\n",
       "<svg xmlns=\"http://www.w3.org/2000/svg\" height=\"24px\"viewBox=\"0 0 24 24\"\n",
       "     width=\"24px\">\n",
       "    <g>\n",
       "        <path d=\"M19 3H5c-1.1 0-2 .9-2 2v14c0 1.1.9 2 2 2h14c1.1 0 2-.9 2-2V5c0-1.1-.9-2-2-2zM9 17H7v-7h2v7zm4 0h-2V7h2v10zm4 0h-2v-4h2v4z\"/>\n",
       "    </g>\n",
       "</svg>\n",
       "  </button>\n",
       "\n",
       "<style>\n",
       "  .colab-df-quickchart {\n",
       "      --bg-color: #E8F0FE;\n",
       "      --fill-color: #1967D2;\n",
       "      --hover-bg-color: #E2EBFA;\n",
       "      --hover-fill-color: #174EA6;\n",
       "      --disabled-fill-color: #AAA;\n",
       "      --disabled-bg-color: #DDD;\n",
       "  }\n",
       "\n",
       "  [theme=dark] .colab-df-quickchart {\n",
       "      --bg-color: #3B4455;\n",
       "      --fill-color: #D2E3FC;\n",
       "      --hover-bg-color: #434B5C;\n",
       "      --hover-fill-color: #FFFFFF;\n",
       "      --disabled-bg-color: #3B4455;\n",
       "      --disabled-fill-color: #666;\n",
       "  }\n",
       "\n",
       "  .colab-df-quickchart {\n",
       "    background-color: var(--bg-color);\n",
       "    border: none;\n",
       "    border-radius: 50%;\n",
       "    cursor: pointer;\n",
       "    display: none;\n",
       "    fill: var(--fill-color);\n",
       "    height: 32px;\n",
       "    padding: 0;\n",
       "    width: 32px;\n",
       "  }\n",
       "\n",
       "  .colab-df-quickchart:hover {\n",
       "    background-color: var(--hover-bg-color);\n",
       "    box-shadow: 0 1px 2px rgba(60, 64, 67, 0.3), 0 1px 3px 1px rgba(60, 64, 67, 0.15);\n",
       "    fill: var(--button-hover-fill-color);\n",
       "  }\n",
       "\n",
       "  .colab-df-quickchart-complete:disabled,\n",
       "  .colab-df-quickchart-complete:disabled:hover {\n",
       "    background-color: var(--disabled-bg-color);\n",
       "    fill: var(--disabled-fill-color);\n",
       "    box-shadow: none;\n",
       "  }\n",
       "\n",
       "  .colab-df-spinner {\n",
       "    border: 2px solid var(--fill-color);\n",
       "    border-color: transparent;\n",
       "    border-bottom-color: var(--fill-color);\n",
       "    animation:\n",
       "      spin 1s steps(1) infinite;\n",
       "  }\n",
       "\n",
       "  @keyframes spin {\n",
       "    0% {\n",
       "      border-color: transparent;\n",
       "      border-bottom-color: var(--fill-color);\n",
       "      border-left-color: var(--fill-color);\n",
       "    }\n",
       "    20% {\n",
       "      border-color: transparent;\n",
       "      border-left-color: var(--fill-color);\n",
       "      border-top-color: var(--fill-color);\n",
       "    }\n",
       "    30% {\n",
       "      border-color: transparent;\n",
       "      border-left-color: var(--fill-color);\n",
       "      border-top-color: var(--fill-color);\n",
       "      border-right-color: var(--fill-color);\n",
       "    }\n",
       "    40% {\n",
       "      border-color: transparent;\n",
       "      border-right-color: var(--fill-color);\n",
       "      border-top-color: var(--fill-color);\n",
       "    }\n",
       "    60% {\n",
       "      border-color: transparent;\n",
       "      border-right-color: var(--fill-color);\n",
       "    }\n",
       "    80% {\n",
       "      border-color: transparent;\n",
       "      border-right-color: var(--fill-color);\n",
       "      border-bottom-color: var(--fill-color);\n",
       "    }\n",
       "    90% {\n",
       "      border-color: transparent;\n",
       "      border-bottom-color: var(--fill-color);\n",
       "    }\n",
       "  }\n",
       "</style>\n",
       "\n",
       "  <script>\n",
       "    async function quickchart(key) {\n",
       "      const quickchartButtonEl =\n",
       "        document.querySelector('#' + key + ' button');\n",
       "      quickchartButtonEl.disabled = true;  // To prevent multiple clicks.\n",
       "      quickchartButtonEl.classList.add('colab-df-spinner');\n",
       "      try {\n",
       "        const charts = await google.colab.kernel.invokeFunction(\n",
       "            'suggestCharts', [key], {});\n",
       "      } catch (error) {\n",
       "        console.error('Error during call to suggestCharts:', error);\n",
       "      }\n",
       "      quickchartButtonEl.classList.remove('colab-df-spinner');\n",
       "      quickchartButtonEl.classList.add('colab-df-quickchart-complete');\n",
       "    }\n",
       "    (() => {\n",
       "      let quickchartButtonEl =\n",
       "        document.querySelector('#df-7d00249d-dc67-42fb-b823-09551437b7c4 button');\n",
       "      quickchartButtonEl.style.display =\n",
       "        google.colab.kernel.accessAllowed ? 'block' : 'none';\n",
       "    })();\n",
       "  </script>\n",
       "</div>\n",
       "\n",
       "    </div>\n",
       "  </div>\n"
      ],
      "text/plain": [
       "           image_id  width  height    set                   file_name\n",
       "0  a4ea732cd3d5948a    840    1024  train  train/a4ea732cd3d5948a.jpg\n",
       "1  4bf43a7b2a898044   1024     683  train  train/4bf43a7b2a898044.jpg\n",
       "2  1b55b309b0f50d02   1024     683  train  train/1b55b309b0f50d02.jpg\n",
       "3  00c359f294f7dcd9   1024     680  train  train/00c359f294f7dcd9.jpg\n",
       "4  04b5a37f762b0f51    768    1024  train  train/04b5a37f762b0f51.jpg"
      ]
     },
     "execution_count": 17,
     "metadata": {},
     "output_type": "execute_result"
    }
   ],
   "source": []
  },
  {
   "cell_type": "code",
   "execution_count": null,
   "metadata": {
    "id": "R4Y4T3wYPJPI"
   },
   "outputs": [],
   "source": []
  },
  {
   "cell_type": "code",
   "execution_count": null,
   "metadata": {
    "colab": {
     "base_uri": "https://localhost:8080/",
     "height": 695
    },
    "id": "kykQQJX2Xcvl",
    "outputId": "1666ec09-c348-482d-b17a-9ab4bbc75c0d"
   },
   "outputs": [
    {
     "data": {
      "text/html": [
       "\n",
       "  <div id=\"df-6730661a-361a-4072-a6e6-d007e74ad35d\" class=\"colab-df-container\">\n",
       "    <div>\n",
       "<style scoped>\n",
       "    .dataframe tbody tr th:only-of-type {\n",
       "        vertical-align: middle;\n",
       "    }\n",
       "\n",
       "    .dataframe tbody tr th {\n",
       "        vertical-align: top;\n",
       "    }\n",
       "\n",
       "    .dataframe thead th {\n",
       "        text-align: right;\n",
       "    }\n",
       "</style>\n",
       "<table border=\"1\" class=\"dataframe\">\n",
       "  <thead>\n",
       "    <tr style=\"text-align: right;\">\n",
       "      <th></th>\n",
       "      <th>id</th>\n",
       "      <th>image_id</th>\n",
       "      <th>bbox</th>\n",
       "      <th>utf8_string</th>\n",
       "      <th>points</th>\n",
       "      <th>area</th>\n",
       "      <th>width</th>\n",
       "      <th>height</th>\n",
       "      <th>set</th>\n",
       "      <th>file_name</th>\n",
       "    </tr>\n",
       "  </thead>\n",
       "  <tbody>\n",
       "    <tr>\n",
       "      <th>0</th>\n",
       "      <td>a4ea732cd3d5948a_1</td>\n",
       "      <td>a4ea732cd3d5948a</td>\n",
       "      <td>[525.83, 3.4, 197.64, 33.94]</td>\n",
       "      <td>Performance</td>\n",
       "      <td>[525.83, 3.4, 723.47, 7.29, 722.76, 36.99, 525...</td>\n",
       "      <td>6707.90</td>\n",
       "      <td>840</td>\n",
       "      <td>1024</td>\n",
       "      <td>train</td>\n",
       "      <td>train/a4ea732cd3d5948a.jpg</td>\n",
       "    </tr>\n",
       "    <tr>\n",
       "      <th>1</th>\n",
       "      <td>a4ea732cd3d5948a_2</td>\n",
       "      <td>a4ea732cd3d5948a</td>\n",
       "      <td>[534.67, 64.68, 91.22, 38.19]</td>\n",
       "      <td>Sport</td>\n",
       "      <td>[535.73, 64.68, 623.41, 67.51, 625.89, 102.87,...</td>\n",
       "      <td>3483.69</td>\n",
       "      <td>840</td>\n",
       "      <td>1024</td>\n",
       "      <td>train</td>\n",
       "      <td>train/a4ea732cd3d5948a.jpg</td>\n",
       "    </tr>\n",
       "    <tr>\n",
       "      <th>2</th>\n",
       "      <td>a4ea732cd3d5948a_3</td>\n",
       "      <td>a4ea732cd3d5948a</td>\n",
       "      <td>[626.95, 63.62, 96.52, 31.82]</td>\n",
       "      <td>Watch</td>\n",
       "      <td>[626.95, 63.62, 721.7, 63.62, 723.47, 95.44, 6...</td>\n",
       "      <td>3071.27</td>\n",
       "      <td>840</td>\n",
       "      <td>1024</td>\n",
       "      <td>train</td>\n",
       "      <td>train/a4ea732cd3d5948a.jpg</td>\n",
       "    </tr>\n",
       "    <tr>\n",
       "      <th>3</th>\n",
       "      <td>a4ea732cd3d5948a_4</td>\n",
       "      <td>a4ea732cd3d5948a</td>\n",
       "      <td>[577.4, 141.87, 147.13, 43.1]</td>\n",
       "      <td>...period.</td>\n",
       "      <td>[580.02, 143.61, 724.53, 141.87, 723.66, 184.9...</td>\n",
       "      <td>6341.30</td>\n",
       "      <td>840</td>\n",
       "      <td>1024</td>\n",
       "      <td>train</td>\n",
       "      <td>train/a4ea732cd3d5948a.jpg</td>\n",
       "    </tr>\n",
       "    <tr>\n",
       "      <th>4</th>\n",
       "      <td>a4ea732cd3d5948a_5</td>\n",
       "      <td>a4ea732cd3d5948a</td>\n",
       "      <td>[391.03, 163.9, 60.82, 38.65]</td>\n",
       "      <td>.</td>\n",
       "      <td>[395.2, 163.9, 451.85, 191.94, 445.59, 202.55,...</td>\n",
       "      <td>2350.69</td>\n",
       "      <td>840</td>\n",
       "      <td>1024</td>\n",
       "      <td>train</td>\n",
       "      <td>train/a4ea732cd3d5948a.jpg</td>\n",
       "    </tr>\n",
       "  </tbody>\n",
       "</table>\n",
       "</div>\n",
       "    <div class=\"colab-df-buttons\">\n",
       "\n",
       "  <div class=\"colab-df-container\">\n",
       "    <button class=\"colab-df-convert\" onclick=\"convertToInteractive('df-6730661a-361a-4072-a6e6-d007e74ad35d')\"\n",
       "            title=\"Convert this dataframe to an interactive table.\"\n",
       "            style=\"display:none;\">\n",
       "\n",
       "  <svg xmlns=\"http://www.w3.org/2000/svg\" height=\"24px\" viewBox=\"0 -960 960 960\">\n",
       "    <path d=\"M120-120v-720h720v720H120Zm60-500h600v-160H180v160Zm220 220h160v-160H400v160Zm0 220h160v-160H400v160ZM180-400h160v-160H180v160Zm440 0h160v-160H620v160ZM180-180h160v-160H180v160Zm440 0h160v-160H620v160Z\"/>\n",
       "  </svg>\n",
       "    </button>\n",
       "\n",
       "  <style>\n",
       "    .colab-df-container {\n",
       "      display:flex;\n",
       "      gap: 12px;\n",
       "    }\n",
       "\n",
       "    .colab-df-convert {\n",
       "      background-color: #E8F0FE;\n",
       "      border: none;\n",
       "      border-radius: 50%;\n",
       "      cursor: pointer;\n",
       "      display: none;\n",
       "      fill: #1967D2;\n",
       "      height: 32px;\n",
       "      padding: 0 0 0 0;\n",
       "      width: 32px;\n",
       "    }\n",
       "\n",
       "    .colab-df-convert:hover {\n",
       "      background-color: #E2EBFA;\n",
       "      box-shadow: 0px 1px 2px rgba(60, 64, 67, 0.3), 0px 1px 3px 1px rgba(60, 64, 67, 0.15);\n",
       "      fill: #174EA6;\n",
       "    }\n",
       "\n",
       "    .colab-df-buttons div {\n",
       "      margin-bottom: 4px;\n",
       "    }\n",
       "\n",
       "    [theme=dark] .colab-df-convert {\n",
       "      background-color: #3B4455;\n",
       "      fill: #D2E3FC;\n",
       "    }\n",
       "\n",
       "    [theme=dark] .colab-df-convert:hover {\n",
       "      background-color: #434B5C;\n",
       "      box-shadow: 0px 1px 3px 1px rgba(0, 0, 0, 0.15);\n",
       "      filter: drop-shadow(0px 1px 2px rgba(0, 0, 0, 0.3));\n",
       "      fill: #FFFFFF;\n",
       "    }\n",
       "  </style>\n",
       "\n",
       "    <script>\n",
       "      const buttonEl =\n",
       "        document.querySelector('#df-6730661a-361a-4072-a6e6-d007e74ad35d button.colab-df-convert');\n",
       "      buttonEl.style.display =\n",
       "        google.colab.kernel.accessAllowed ? 'block' : 'none';\n",
       "\n",
       "      async function convertToInteractive(key) {\n",
       "        const element = document.querySelector('#df-6730661a-361a-4072-a6e6-d007e74ad35d');\n",
       "        const dataTable =\n",
       "          await google.colab.kernel.invokeFunction('convertToInteractive',\n",
       "                                                    [key], {});\n",
       "        if (!dataTable) return;\n",
       "\n",
       "        const docLinkHtml = 'Like what you see? Visit the ' +\n",
       "          '<a target=\"_blank\" href=https://colab.research.google.com/notebooks/data_table.ipynb>data table notebook</a>'\n",
       "          + ' to learn more about interactive tables.';\n",
       "        element.innerHTML = '';\n",
       "        dataTable['output_type'] = 'display_data';\n",
       "        await google.colab.output.renderOutput(dataTable, element);\n",
       "        const docLink = document.createElement('div');\n",
       "        docLink.innerHTML = docLinkHtml;\n",
       "        element.appendChild(docLink);\n",
       "      }\n",
       "    </script>\n",
       "  </div>\n",
       "\n",
       "\n",
       "<div id=\"df-aae0caa9-4b8b-4453-bf4b-d526cebc87f2\">\n",
       "  <button class=\"colab-df-quickchart\" onclick=\"quickchart('df-aae0caa9-4b8b-4453-bf4b-d526cebc87f2')\"\n",
       "            title=\"Suggest charts\"\n",
       "            style=\"display:none;\">\n",
       "\n",
       "<svg xmlns=\"http://www.w3.org/2000/svg\" height=\"24px\"viewBox=\"0 0 24 24\"\n",
       "     width=\"24px\">\n",
       "    <g>\n",
       "        <path d=\"M19 3H5c-1.1 0-2 .9-2 2v14c0 1.1.9 2 2 2h14c1.1 0 2-.9 2-2V5c0-1.1-.9-2-2-2zM9 17H7v-7h2v7zm4 0h-2V7h2v10zm4 0h-2v-4h2v4z\"/>\n",
       "    </g>\n",
       "</svg>\n",
       "  </button>\n",
       "\n",
       "<style>\n",
       "  .colab-df-quickchart {\n",
       "      --bg-color: #E8F0FE;\n",
       "      --fill-color: #1967D2;\n",
       "      --hover-bg-color: #E2EBFA;\n",
       "      --hover-fill-color: #174EA6;\n",
       "      --disabled-fill-color: #AAA;\n",
       "      --disabled-bg-color: #DDD;\n",
       "  }\n",
       "\n",
       "  [theme=dark] .colab-df-quickchart {\n",
       "      --bg-color: #3B4455;\n",
       "      --fill-color: #D2E3FC;\n",
       "      --hover-bg-color: #434B5C;\n",
       "      --hover-fill-color: #FFFFFF;\n",
       "      --disabled-bg-color: #3B4455;\n",
       "      --disabled-fill-color: #666;\n",
       "  }\n",
       "\n",
       "  .colab-df-quickchart {\n",
       "    background-color: var(--bg-color);\n",
       "    border: none;\n",
       "    border-radius: 50%;\n",
       "    cursor: pointer;\n",
       "    display: none;\n",
       "    fill: var(--fill-color);\n",
       "    height: 32px;\n",
       "    padding: 0;\n",
       "    width: 32px;\n",
       "  }\n",
       "\n",
       "  .colab-df-quickchart:hover {\n",
       "    background-color: var(--hover-bg-color);\n",
       "    box-shadow: 0 1px 2px rgba(60, 64, 67, 0.3), 0 1px 3px 1px rgba(60, 64, 67, 0.15);\n",
       "    fill: var(--button-hover-fill-color);\n",
       "  }\n",
       "\n",
       "  .colab-df-quickchart-complete:disabled,\n",
       "  .colab-df-quickchart-complete:disabled:hover {\n",
       "    background-color: var(--disabled-bg-color);\n",
       "    fill: var(--disabled-fill-color);\n",
       "    box-shadow: none;\n",
       "  }\n",
       "\n",
       "  .colab-df-spinner {\n",
       "    border: 2px solid var(--fill-color);\n",
       "    border-color: transparent;\n",
       "    border-bottom-color: var(--fill-color);\n",
       "    animation:\n",
       "      spin 1s steps(1) infinite;\n",
       "  }\n",
       "\n",
       "  @keyframes spin {\n",
       "    0% {\n",
       "      border-color: transparent;\n",
       "      border-bottom-color: var(--fill-color);\n",
       "      border-left-color: var(--fill-color);\n",
       "    }\n",
       "    20% {\n",
       "      border-color: transparent;\n",
       "      border-left-color: var(--fill-color);\n",
       "      border-top-color: var(--fill-color);\n",
       "    }\n",
       "    30% {\n",
       "      border-color: transparent;\n",
       "      border-left-color: var(--fill-color);\n",
       "      border-top-color: var(--fill-color);\n",
       "      border-right-color: var(--fill-color);\n",
       "    }\n",
       "    40% {\n",
       "      border-color: transparent;\n",
       "      border-right-color: var(--fill-color);\n",
       "      border-top-color: var(--fill-color);\n",
       "    }\n",
       "    60% {\n",
       "      border-color: transparent;\n",
       "      border-right-color: var(--fill-color);\n",
       "    }\n",
       "    80% {\n",
       "      border-color: transparent;\n",
       "      border-right-color: var(--fill-color);\n",
       "      border-bottom-color: var(--fill-color);\n",
       "    }\n",
       "    90% {\n",
       "      border-color: transparent;\n",
       "      border-bottom-color: var(--fill-color);\n",
       "    }\n",
       "  }\n",
       "</style>\n",
       "\n",
       "  <script>\n",
       "    async function quickchart(key) {\n",
       "      const quickchartButtonEl =\n",
       "        document.querySelector('#' + key + ' button');\n",
       "      quickchartButtonEl.disabled = true;  // To prevent multiple clicks.\n",
       "      quickchartButtonEl.classList.add('colab-df-spinner');\n",
       "      try {\n",
       "        const charts = await google.colab.kernel.invokeFunction(\n",
       "            'suggestCharts', [key], {});\n",
       "      } catch (error) {\n",
       "        console.error('Error during call to suggestCharts:', error);\n",
       "      }\n",
       "      quickchartButtonEl.classList.remove('colab-df-spinner');\n",
       "      quickchartButtonEl.classList.add('colab-df-quickchart-complete');\n",
       "    }\n",
       "    (() => {\n",
       "      let quickchartButtonEl =\n",
       "        document.querySelector('#df-aae0caa9-4b8b-4453-bf4b-d526cebc87f2 button');\n",
       "      quickchartButtonEl.style.display =\n",
       "        google.colab.kernel.accessAllowed ? 'block' : 'none';\n",
       "    })();\n",
       "  </script>\n",
       "</div>\n",
       "\n",
       "    </div>\n",
       "  </div>\n"
      ],
      "text/plain": [
       "                   id          image_id                           bbox  \\\n",
       "0  a4ea732cd3d5948a_1  a4ea732cd3d5948a   [525.83, 3.4, 197.64, 33.94]   \n",
       "1  a4ea732cd3d5948a_2  a4ea732cd3d5948a  [534.67, 64.68, 91.22, 38.19]   \n",
       "2  a4ea732cd3d5948a_3  a4ea732cd3d5948a  [626.95, 63.62, 96.52, 31.82]   \n",
       "3  a4ea732cd3d5948a_4  a4ea732cd3d5948a  [577.4, 141.87, 147.13, 43.1]   \n",
       "4  a4ea732cd3d5948a_5  a4ea732cd3d5948a  [391.03, 163.9, 60.82, 38.65]   \n",
       "\n",
       "   utf8_string                                             points     area  \\\n",
       "0  Performance  [525.83, 3.4, 723.47, 7.29, 722.76, 36.99, 525...  6707.90   \n",
       "1        Sport  [535.73, 64.68, 623.41, 67.51, 625.89, 102.87,...  3483.69   \n",
       "2        Watch  [626.95, 63.62, 721.7, 63.62, 723.47, 95.44, 6...  3071.27   \n",
       "3   ...period.  [580.02, 143.61, 724.53, 141.87, 723.66, 184.9...  6341.30   \n",
       "4            .  [395.2, 163.9, 451.85, 191.94, 445.59, 202.55,...  2350.69   \n",
       "\n",
       "   width  height    set                   file_name  \n",
       "0    840    1024  train  train/a4ea732cd3d5948a.jpg  \n",
       "1    840    1024  train  train/a4ea732cd3d5948a.jpg  \n",
       "2    840    1024  train  train/a4ea732cd3d5948a.jpg  \n",
       "3    840    1024  train  train/a4ea732cd3d5948a.jpg  \n",
       "4    840    1024  train  train/a4ea732cd3d5948a.jpg  "
      ]
     },
     "execution_count": 19,
     "metadata": {},
     "output_type": "execute_result"
    }
   ],
   "source": []
  },
  {
   "cell_type": "code",
   "execution_count": null,
   "metadata": {
    "colab": {
     "base_uri": "https://localhost:8080/"
    },
    "id": "Kvx-6IGU6t-j",
    "outputId": "64ca5013-f801-4783-ed0c-83a3b955ae79"
   },
   "outputs": [
    {
     "name": "stdout",
     "output_type": "stream",
     "text": [
      "Mean Image Width: 956.0872463068512,\n",
      "\tSTD Image Width: 139.52693910372935,\n",
      "\tMax Image Width: 6000,\n",
      "\tMin Image Width: 259,\n",
      "Mean Image Height: 811.58137375826,\n",
      "\tSTD Image Height: 139.52693910372935,\n",
      "\tMax Image Height: 4608,\n",
      "\tMin Image Height: 257\n"
     ]
    }
   ],
   "source": []
  },
  {
   "cell_type": "code",
   "execution_count": 20,
   "metadata": {
    "colab": {
     "base_uri": "https://localhost:8080/",
     "height": 424
    },
    "id": "MXsEVQ6_i0X0",
    "outputId": "c3224534-1bbc-4d8c-9161-86eae56bf2d1"
   },
   "outputs": [
    {
     "data": {
      "text/plain": [
       "('[202.26, 60.4, 231.01, 58.12, 231.82, 67.38, 202.91, 69.33]',\n",
       " 'menu',\n",
       " '4974a1000a27a984')"
      ]
     },
     "execution_count": 20,
     "metadata": {},
     "output_type": "execute_result"
    }
   ],
   "source": [
    "annot.iloc[559]['points'], annot.iloc[559]['utf8_string'], annot.iloc[559]['image_id']"
   ]
  },
  {
   "cell_type": "code",
   "execution_count": 5,
   "metadata": {
    "id": "q8bXuT4eVRPN"
   },
   "outputs": [],
   "source": [
    "def cropRectangle(points, image):\n",
    "    angle = -math.tan((points[3] - points[1])/(points[2] - points[0]))/2 - math.tan((points[7] - points[5])/(points[6] - points[4]))/2\n",
    "    rotated = ndimage.rotate(image, angle * 180 / math.pi)\n",
    "    point1x = (points[0] - image.shape[0]/2) * math.cos(angle) - (points[1] - image.shape[1]/2) * math.sin(angle) + rotated.shape[0]/2\n",
    "    point1y = (points[1] - image.shape[1]/2) * math.cos(angle) + (points[0] - image.shape[0]/2) * math.sin(angle) + rotated.shape[1]/2\n",
    "    point2x = (points[4] - image.shape[0]/2) * math.cos(angle) - (points[5] - image.shape[1]/2) * math.sin(angle) + rotated.shape[0]/2\n",
    "    point2y = (points[5] - image.shape[1]/2) * math.cos(angle) + (points[4] - image.shape[0]/2) * math.sin(angle) + rotated.shape[1]/2\n",
    "    #print(point1x, point1y, point2x, point2y)\n",
    "    final = rotated[int(min(point1y, point2y)):int(max(point1y, point2y)), int(min(point1x, point2x)):int(max(point1x, point2x))]\n",
    "    if final.shape[0] > final.shape[1]:\n",
    "        final = ndimage.rotate(final, 90)\n",
    "    final = cv2.cvtColor(final, cv2.COLOR_BGR2GRAY)#grayscaling\n",
    "    return final"
   ]
  },
  {
   "cell_type": "code",
   "execution_count": 21,
   "metadata": {
    "colab": {
     "base_uri": "https://localhost:8080/",
     "height": 1000
    },
    "id": "1VR2r-V-D78R",
    "outputId": "1cc09d45-4d26-4700-fb0f-fa9dfa9de0df"
   },
   "outputs": [
    {
     "name": "stdout",
     "output_type": "stream",
     "text": [
      "560\n",
      "561\n",
      "562\n"
     ]
    },
    {
     "name": "stderr",
     "output_type": "stream",
     "text": [
      "Traceback (most recent call last):\n",
      "  File \"C:\\Users\\liuke\\AppData\\Local\\Temp\\ipykernel_38964\\1486092911.py\", line 34, in <module>\n",
      "    cropped = cropRectangle(crop_coord, image)\n",
      "              ^^^^^^^^^^^^^^^^^^^^^^^^^^^^^^^^\n",
      "  File \"C:\\Users\\liuke\\AppData\\Local\\Temp\\ipykernel_38964\\2776285124.py\", line 14, in cropRectangle\n",
      "    final = cv2.cvtColor(final, cv2.COLOR_BGR2GRAY)#grayscaling\n",
      "            ^^^^^^^^^^^^^^^^^^^^^^^^^^^^^^^^^^^^^^^\n",
      "cv2.error: OpenCV(4.8.1) D:\\a\\opencv-python\\opencv-python\\opencv\\modules\\imgproc\\src\\color.cpp:182: error: (-215:Assertion failed) !_src.empty() in function 'cv::cvtColor'\n",
      "\n"
     ]
    },
    {
     "name": "stdout",
     "output_type": "stream",
     "text": [
      "563\n"
     ]
    },
    {
     "name": "stderr",
     "output_type": "stream",
     "text": [
      "Traceback (most recent call last):\n",
      "  File \"C:\\Users\\liuke\\AppData\\Local\\Temp\\ipykernel_38964\\1486092911.py\", line 45, in <module>\n",
      "    cropped = cv2.copyMakeBorder(cropped, 0, 0, 0, w_pad, cv2.BORDER_CONSTANT, None, 0)\n",
      "              ^^^^^^^^^^^^^^^^^^^^^^^^^^^^^^^^^^^^^^^^^^^^^^^^^^^^^^^^^^^^^^^^^^^^^^^^^\n",
      "cv2.error: OpenCV(4.8.1) D:\\a\\opencv-python\\opencv-python\\opencv\\modules\\core\\src\\copy.cpp:1026: error: (-215:Assertion failed) top >= 0 && bottom >= 0 && left >= 0 && right >= 0 && _src.dims() <= 2 in function 'cv::copyMakeBorder'\n",
      "\n"
     ]
    },
    {
     "name": "stdout",
     "output_type": "stream",
     "text": [
      "564\n"
     ]
    },
    {
     "name": "stderr",
     "output_type": "stream",
     "text": [
      "Traceback (most recent call last):\n",
      "  File \"C:\\Users\\liuke\\AppData\\Local\\Temp\\ipykernel_38964\\1486092911.py\", line 45, in <module>\n",
      "    cropped = cv2.copyMakeBorder(cropped, 0, 0, 0, w_pad, cv2.BORDER_CONSTANT, None, 0)\n",
      "              ^^^^^^^^^^^^^^^^^^^^^^^^^^^^^^^^^^^^^^^^^^^^^^^^^^^^^^^^^^^^^^^^^^^^^^^^^\n",
      "cv2.error: OpenCV(4.8.1) D:\\a\\opencv-python\\opencv-python\\opencv\\modules\\core\\src\\copy.cpp:1026: error: (-215:Assertion failed) top >= 0 && bottom >= 0 && left >= 0 && right >= 0 && _src.dims() <= 2 in function 'cv::copyMakeBorder'\n",
      "\n"
     ]
    },
    {
     "name": "stdout",
     "output_type": "stream",
     "text": [
      "565\n"
     ]
    },
    {
     "name": "stderr",
     "output_type": "stream",
     "text": [
      "Traceback (most recent call last):\n",
      "  File \"C:\\Users\\liuke\\AppData\\Local\\Temp\\ipykernel_38964\\1486092911.py\", line 45, in <module>\n",
      "    cropped = cv2.copyMakeBorder(cropped, 0, 0, 0, w_pad, cv2.BORDER_CONSTANT, None, 0)\n",
      "              ^^^^^^^^^^^^^^^^^^^^^^^^^^^^^^^^^^^^^^^^^^^^^^^^^^^^^^^^^^^^^^^^^^^^^^^^^\n",
      "cv2.error: OpenCV(4.8.1) D:\\a\\opencv-python\\opencv-python\\opencv\\modules\\core\\src\\copy.cpp:1026: error: (-215:Assertion failed) top >= 0 && bottom >= 0 && left >= 0 && right >= 0 && _src.dims() <= 2 in function 'cv::copyMakeBorder'\n",
      "\n"
     ]
    },
    {
     "name": "stdout",
     "output_type": "stream",
     "text": [
      "566\n"
     ]
    },
    {
     "name": "stderr",
     "output_type": "stream",
     "text": [
      "Traceback (most recent call last):\n",
      "  File \"C:\\Users\\liuke\\AppData\\Local\\Temp\\ipykernel_38964\\1486092911.py\", line 45, in <module>\n",
      "    cropped = cv2.copyMakeBorder(cropped, 0, 0, 0, w_pad, cv2.BORDER_CONSTANT, None, 0)\n",
      "              ^^^^^^^^^^^^^^^^^^^^^^^^^^^^^^^^^^^^^^^^^^^^^^^^^^^^^^^^^^^^^^^^^^^^^^^^^\n",
      "cv2.error: OpenCV(4.8.1) D:\\a\\opencv-python\\opencv-python\\opencv\\modules\\core\\src\\copy.cpp:1026: error: (-215:Assertion failed) top >= 0 && bottom >= 0 && left >= 0 && right >= 0 && _src.dims() <= 2 in function 'cv::copyMakeBorder'\n",
      "\n"
     ]
    },
    {
     "name": "stdout",
     "output_type": "stream",
     "text": [
      "567\n",
      "568\n"
     ]
    },
    {
     "name": "stderr",
     "output_type": "stream",
     "text": [
      "Traceback (most recent call last):\n",
      "  File \"C:\\Users\\liuke\\AppData\\Local\\Temp\\ipykernel_38964\\1486092911.py\", line 45, in <module>\n",
      "    cropped = cv2.copyMakeBorder(cropped, 0, 0, 0, w_pad, cv2.BORDER_CONSTANT, None, 0)\n",
      "              ^^^^^^^^^^^^^^^^^^^^^^^^^^^^^^^^^^^^^^^^^^^^^^^^^^^^^^^^^^^^^^^^^^^^^^^^^\n",
      "cv2.error: OpenCV(4.8.1) D:\\a\\opencv-python\\opencv-python\\opencv\\modules\\core\\src\\copy.cpp:1026: error: (-215:Assertion failed) top >= 0 && bottom >= 0 && left >= 0 && right >= 0 && _src.dims() <= 2 in function 'cv::copyMakeBorder'\n",
      "\n"
     ]
    },
    {
     "name": "stdout",
     "output_type": "stream",
     "text": [
      "569\n",
      "570\n"
     ]
    },
    {
     "name": "stderr",
     "output_type": "stream",
     "text": [
      "Traceback (most recent call last):\n",
      "  File \"C:\\Users\\liuke\\AppData\\Local\\Temp\\ipykernel_38964\\1486092911.py\", line 34, in <module>\n",
      "    cropped = cropRectangle(crop_coord, image)\n",
      "              ^^^^^^^^^^^^^^^^^^^^^^^^^^^^^^^^\n",
      "  File \"C:\\Users\\liuke\\AppData\\Local\\Temp\\ipykernel_38964\\2776285124.py\", line 14, in cropRectangle\n",
      "    final = cv2.cvtColor(final, cv2.COLOR_BGR2GRAY)#grayscaling\n",
      "            ^^^^^^^^^^^^^^^^^^^^^^^^^^^^^^^^^^^^^^^\n",
      "cv2.error: OpenCV(4.8.1) D:\\a\\opencv-python\\opencv-python\\opencv\\modules\\imgproc\\src\\color.cpp:182: error: (-215:Assertion failed) !_src.empty() in function 'cv::cvtColor'\n",
      "\n"
     ]
    },
    {
     "name": "stdout",
     "output_type": "stream",
     "text": [
      "571\n"
     ]
    },
    {
     "name": "stderr",
     "output_type": "stream",
     "text": [
      "Traceback (most recent call last):\n",
      "  File \"C:\\Users\\liuke\\AppData\\Local\\Temp\\ipykernel_38964\\1486092911.py\", line 45, in <module>\n",
      "    cropped = cv2.copyMakeBorder(cropped, 0, 0, 0, w_pad, cv2.BORDER_CONSTANT, None, 0)\n",
      "              ^^^^^^^^^^^^^^^^^^^^^^^^^^^^^^^^^^^^^^^^^^^^^^^^^^^^^^^^^^^^^^^^^^^^^^^^^\n",
      "cv2.error: OpenCV(4.8.1) D:\\a\\opencv-python\\opencv-python\\opencv\\modules\\core\\src\\copy.cpp:1026: error: (-215:Assertion failed) top >= 0 && bottom >= 0 && left >= 0 && right >= 0 && _src.dims() <= 2 in function 'cv::copyMakeBorder'\n",
      "\n"
     ]
    },
    {
     "name": "stdout",
     "output_type": "stream",
     "text": [
      "572\n"
     ]
    },
    {
     "name": "stderr",
     "output_type": "stream",
     "text": [
      "Traceback (most recent call last):\n",
      "  File \"C:\\Users\\liuke\\AppData\\Local\\Temp\\ipykernel_38964\\1486092911.py\", line 45, in <module>\n",
      "    cropped = cv2.copyMakeBorder(cropped, 0, 0, 0, w_pad, cv2.BORDER_CONSTANT, None, 0)\n",
      "              ^^^^^^^^^^^^^^^^^^^^^^^^^^^^^^^^^^^^^^^^^^^^^^^^^^^^^^^^^^^^^^^^^^^^^^^^^\n",
      "cv2.error: OpenCV(4.8.1) D:\\a\\opencv-python\\opencv-python\\opencv\\modules\\core\\src\\copy.cpp:1026: error: (-215:Assertion failed) top >= 0 && bottom >= 0 && left >= 0 && right >= 0 && _src.dims() <= 2 in function 'cv::copyMakeBorder'\n",
      "\n"
     ]
    },
    {
     "name": "stdout",
     "output_type": "stream",
     "text": [
      "573\n"
     ]
    },
    {
     "name": "stderr",
     "output_type": "stream",
     "text": [
      "C:\\Users\\liuke\\AppData\\Local\\Temp\\ipykernel_38964\\2776285124.py:4: RuntimeWarning: divide by zero encountered in scalar divide\n",
      "  angle = -math.tan((points[3] - points[1])/(points[2] - points[0]))/2 - math.tan((points[7] - points[5])/(points[6] - points[4]))/2\n",
      "Traceback (most recent call last):\n",
      "  File \"C:\\Users\\liuke\\AppData\\Local\\Temp\\ipykernel_38964\\1486092911.py\", line 34, in <module>\n",
      "    cropped = cropRectangle(crop_coord, image)\n",
      "              ^^^^^^^^^^^^^^^^^^^^^^^^^^^^^^^^\n",
      "  File \"C:\\Users\\liuke\\AppData\\Local\\Temp\\ipykernel_38964\\2776285124.py\", line 4, in cropRectangle\n",
      "    angle = -math.tan((points[3] - points[1])/(points[2] - points[0]))/2 - math.tan((points[7] - points[5])/(points[6] - points[4]))/2\n",
      "             ^^^^^^^^^^^^^^^^^^^^^^^^^^^^^^^^^^^^^^^^^^^^^^^^^^^^^^^^^\n",
      "ValueError: math domain error\n"
     ]
    },
    {
     "name": "stdout",
     "output_type": "stream",
     "text": [
      "574\n"
     ]
    },
    {
     "name": "stderr",
     "output_type": "stream",
     "text": [
      "Traceback (most recent call last):\n",
      "  File \"C:\\Users\\liuke\\AppData\\Local\\Temp\\ipykernel_38964\\1486092911.py\", line 45, in <module>\n",
      "    cropped = cv2.copyMakeBorder(cropped, 0, 0, 0, w_pad, cv2.BORDER_CONSTANT, None, 0)\n",
      "              ^^^^^^^^^^^^^^^^^^^^^^^^^^^^^^^^^^^^^^^^^^^^^^^^^^^^^^^^^^^^^^^^^^^^^^^^^\n",
      "cv2.error: OpenCV(4.8.1) D:\\a\\opencv-python\\opencv-python\\opencv\\modules\\core\\src\\copy.cpp:1026: error: (-215:Assertion failed) top >= 0 && bottom >= 0 && left >= 0 && right >= 0 && _src.dims() <= 2 in function 'cv::copyMakeBorder'\n",
      "\n"
     ]
    },
    {
     "name": "stdout",
     "output_type": "stream",
     "text": [
      "575\n"
     ]
    },
    {
     "name": "stderr",
     "output_type": "stream",
     "text": [
      "Traceback (most recent call last):\n",
      "  File \"C:\\Users\\liuke\\AppData\\Local\\Temp\\ipykernel_38964\\1486092911.py\", line 45, in <module>\n",
      "    cropped = cv2.copyMakeBorder(cropped, 0, 0, 0, w_pad, cv2.BORDER_CONSTANT, None, 0)\n",
      "              ^^^^^^^^^^^^^^^^^^^^^^^^^^^^^^^^^^^^^^^^^^^^^^^^^^^^^^^^^^^^^^^^^^^^^^^^^\n",
      "cv2.error: OpenCV(4.8.1) D:\\a\\opencv-python\\opencv-python\\opencv\\modules\\core\\src\\copy.cpp:1026: error: (-215:Assertion failed) top >= 0 && bottom >= 0 && left >= 0 && right >= 0 && _src.dims() <= 2 in function 'cv::copyMakeBorder'\n",
      "\n"
     ]
    },
    {
     "name": "stdout",
     "output_type": "stream",
     "text": [
      "576\n"
     ]
    },
    {
     "name": "stderr",
     "output_type": "stream",
     "text": [
      "Traceback (most recent call last):\n",
      "  File \"C:\\Users\\liuke\\AppData\\Local\\Temp\\ipykernel_38964\\1486092911.py\", line 45, in <module>\n",
      "    cropped = cv2.copyMakeBorder(cropped, 0, 0, 0, w_pad, cv2.BORDER_CONSTANT, None, 0)\n",
      "              ^^^^^^^^^^^^^^^^^^^^^^^^^^^^^^^^^^^^^^^^^^^^^^^^^^^^^^^^^^^^^^^^^^^^^^^^^\n",
      "cv2.error: OpenCV(4.8.1) D:\\a\\opencv-python\\opencv-python\\opencv\\modules\\core\\src\\copy.cpp:1026: error: (-215:Assertion failed) top >= 0 && bottom >= 0 && left >= 0 && right >= 0 && _src.dims() <= 2 in function 'cv::copyMakeBorder'\n",
      "\n"
     ]
    },
    {
     "name": "stdout",
     "output_type": "stream",
     "text": [
      "577\n",
      "578\n"
     ]
    },
    {
     "name": "stderr",
     "output_type": "stream",
     "text": [
      "Traceback (most recent call last):\n",
      "  File \"C:\\Users\\liuke\\AppData\\Local\\Temp\\ipykernel_38964\\1486092911.py\", line 45, in <module>\n",
      "    cropped = cv2.copyMakeBorder(cropped, 0, 0, 0, w_pad, cv2.BORDER_CONSTANT, None, 0)\n",
      "              ^^^^^^^^^^^^^^^^^^^^^^^^^^^^^^^^^^^^^^^^^^^^^^^^^^^^^^^^^^^^^^^^^^^^^^^^^\n",
      "cv2.error: OpenCV(4.8.1) D:\\a\\opencv-python\\opencv-python\\opencv\\modules\\core\\src\\copy.cpp:1026: error: (-215:Assertion failed) top >= 0 && bottom >= 0 && left >= 0 && right >= 0 && _src.dims() <= 2 in function 'cv::copyMakeBorder'\n",
      "\n"
     ]
    },
    {
     "name": "stdout",
     "output_type": "stream",
     "text": [
      "579\n",
      "580\n"
     ]
    },
    {
     "name": "stderr",
     "output_type": "stream",
     "text": [
      "Traceback (most recent call last):\n",
      "  File \"C:\\Users\\liuke\\AppData\\Local\\Temp\\ipykernel_38964\\1486092911.py\", line 45, in <module>\n",
      "    cropped = cv2.copyMakeBorder(cropped, 0, 0, 0, w_pad, cv2.BORDER_CONSTANT, None, 0)\n",
      "              ^^^^^^^^^^^^^^^^^^^^^^^^^^^^^^^^^^^^^^^^^^^^^^^^^^^^^^^^^^^^^^^^^^^^^^^^^\n",
      "cv2.error: OpenCV(4.8.1) D:\\a\\opencv-python\\opencv-python\\opencv\\modules\\core\\src\\copy.cpp:1026: error: (-215:Assertion failed) top >= 0 && bottom >= 0 && left >= 0 && right >= 0 && _src.dims() <= 2 in function 'cv::copyMakeBorder'\n",
      "\n"
     ]
    },
    {
     "name": "stdout",
     "output_type": "stream",
     "text": [
      "581\n"
     ]
    },
    {
     "name": "stderr",
     "output_type": "stream",
     "text": [
      "Traceback (most recent call last):\n",
      "  File \"C:\\Users\\liuke\\AppData\\Local\\Temp\\ipykernel_38964\\1486092911.py\", line 45, in <module>\n",
      "    cropped = cv2.copyMakeBorder(cropped, 0, 0, 0, w_pad, cv2.BORDER_CONSTANT, None, 0)\n",
      "              ^^^^^^^^^^^^^^^^^^^^^^^^^^^^^^^^^^^^^^^^^^^^^^^^^^^^^^^^^^^^^^^^^^^^^^^^^\n",
      "cv2.error: OpenCV(4.8.1) D:\\a\\opencv-python\\opencv-python\\opencv\\modules\\core\\src\\copy.cpp:1026: error: (-215:Assertion failed) top >= 0 && bottom >= 0 && left >= 0 && right >= 0 && _src.dims() <= 2 in function 'cv::copyMakeBorder'\n",
      "\n"
     ]
    },
    {
     "name": "stdout",
     "output_type": "stream",
     "text": [
      "582\n"
     ]
    },
    {
     "name": "stderr",
     "output_type": "stream",
     "text": [
      "Traceback (most recent call last):\n",
      "  File \"C:\\Users\\liuke\\AppData\\Local\\Temp\\ipykernel_38964\\1486092911.py\", line 45, in <module>\n",
      "    cropped = cv2.copyMakeBorder(cropped, 0, 0, 0, w_pad, cv2.BORDER_CONSTANT, None, 0)\n",
      "              ^^^^^^^^^^^^^^^^^^^^^^^^^^^^^^^^^^^^^^^^^^^^^^^^^^^^^^^^^^^^^^^^^^^^^^^^^\n",
      "cv2.error: OpenCV(4.8.1) D:\\a\\opencv-python\\opencv-python\\opencv\\modules\\core\\src\\copy.cpp:1026: error: (-215:Assertion failed) top >= 0 && bottom >= 0 && left >= 0 && right >= 0 && _src.dims() <= 2 in function 'cv::copyMakeBorder'\n",
      "\n"
     ]
    },
    {
     "name": "stdout",
     "output_type": "stream",
     "text": [
      "583\n",
      "584\n"
     ]
    },
    {
     "name": "stderr",
     "output_type": "stream",
     "text": [
      "Traceback (most recent call last):\n",
      "  File \"C:\\Users\\liuke\\AppData\\Local\\Temp\\ipykernel_38964\\1486092911.py\", line 34, in <module>\n",
      "    cropped = cropRectangle(crop_coord, image)\n",
      "              ^^^^^^^^^^^^^^^^^^^^^^^^^^^^^^^^\n",
      "  File \"C:\\Users\\liuke\\AppData\\Local\\Temp\\ipykernel_38964\\2776285124.py\", line 4, in cropRectangle\n",
      "    angle = -math.tan((points[3] - points[1])/(points[2] - points[0]))/2 - math.tan((points[7] - points[5])/(points[6] - points[4]))/2\n",
      "             ^^^^^^^^^^^^^^^^^^^^^^^^^^^^^^^^^^^^^^^^^^^^^^^^^^^^^^^^^\n",
      "ValueError: math domain error\n"
     ]
    },
    {
     "name": "stdout",
     "output_type": "stream",
     "text": [
      "585\n"
     ]
    },
    {
     "name": "stderr",
     "output_type": "stream",
     "text": [
      "Traceback (most recent call last):\n",
      "  File \"C:\\Users\\liuke\\AppData\\Local\\Temp\\ipykernel_38964\\1486092911.py\", line 45, in <module>\n",
      "    cropped = cv2.copyMakeBorder(cropped, 0, 0, 0, w_pad, cv2.BORDER_CONSTANT, None, 0)\n",
      "              ^^^^^^^^^^^^^^^^^^^^^^^^^^^^^^^^^^^^^^^^^^^^^^^^^^^^^^^^^^^^^^^^^^^^^^^^^\n",
      "cv2.error: OpenCV(4.8.1) D:\\a\\opencv-python\\opencv-python\\opencv\\modules\\core\\src\\copy.cpp:1026: error: (-215:Assertion failed) top >= 0 && bottom >= 0 && left >= 0 && right >= 0 && _src.dims() <= 2 in function 'cv::copyMakeBorder'\n",
      "\n"
     ]
    },
    {
     "name": "stdout",
     "output_type": "stream",
     "text": [
      "586\n"
     ]
    },
    {
     "name": "stderr",
     "output_type": "stream",
     "text": [
      "Traceback (most recent call last):\n",
      "  File \"C:\\Users\\liuke\\AppData\\Local\\Temp\\ipykernel_38964\\1486092911.py\", line 45, in <module>\n",
      "    cropped = cv2.copyMakeBorder(cropped, 0, 0, 0, w_pad, cv2.BORDER_CONSTANT, None, 0)\n",
      "              ^^^^^^^^^^^^^^^^^^^^^^^^^^^^^^^^^^^^^^^^^^^^^^^^^^^^^^^^^^^^^^^^^^^^^^^^^\n",
      "cv2.error: OpenCV(4.8.1) D:\\a\\opencv-python\\opencv-python\\opencv\\modules\\core\\src\\copy.cpp:1026: error: (-215:Assertion failed) top >= 0 && bottom >= 0 && left >= 0 && right >= 0 && _src.dims() <= 2 in function 'cv::copyMakeBorder'\n",
      "\n"
     ]
    },
    {
     "name": "stdout",
     "output_type": "stream",
     "text": [
      "587\n",
      "588\n"
     ]
    },
    {
     "name": "stderr",
     "output_type": "stream",
     "text": [
      "Traceback (most recent call last):\n",
      "  File \"C:\\Users\\liuke\\AppData\\Local\\Temp\\ipykernel_38964\\1486092911.py\", line 34, in <module>\n",
      "    cropped = cropRectangle(crop_coord, image)\n",
      "              ^^^^^^^^^^^^^^^^^^^^^^^^^^^^^^^^\n",
      "  File \"C:\\Users\\liuke\\AppData\\Local\\Temp\\ipykernel_38964\\2776285124.py\", line 4, in cropRectangle\n",
      "    angle = -math.tan((points[3] - points[1])/(points[2] - points[0]))/2 - math.tan((points[7] - points[5])/(points[6] - points[4]))/2\n",
      "             ^^^^^^^^^^^^^^^^^^^^^^^^^^^^^^^^^^^^^^^^^^^^^^^^^^^^^^^^^\n",
      "ValueError: math domain error\n"
     ]
    },
    {
     "name": "stdout",
     "output_type": "stream",
     "text": [
      "589\n",
      "590\n",
      "591\n",
      "592\n"
     ]
    },
    {
     "name": "stderr",
     "output_type": "stream",
     "text": [
      "Traceback (most recent call last):\n",
      "  File \"C:\\Users\\liuke\\AppData\\Local\\Temp\\ipykernel_38964\\1486092911.py\", line 45, in <module>\n",
      "    cropped = cv2.copyMakeBorder(cropped, 0, 0, 0, w_pad, cv2.BORDER_CONSTANT, None, 0)\n",
      "              ^^^^^^^^^^^^^^^^^^^^^^^^^^^^^^^^^^^^^^^^^^^^^^^^^^^^^^^^^^^^^^^^^^^^^^^^^\n",
      "cv2.error: OpenCV(4.8.1) D:\\a\\opencv-python\\opencv-python\\opencv\\modules\\core\\src\\copy.cpp:1026: error: (-215:Assertion failed) top >= 0 && bottom >= 0 && left >= 0 && right >= 0 && _src.dims() <= 2 in function 'cv::copyMakeBorder'\n",
      "\n"
     ]
    },
    {
     "name": "stdout",
     "output_type": "stream",
     "text": [
      "593\n"
     ]
    },
    {
     "name": "stderr",
     "output_type": "stream",
     "text": [
      "Traceback (most recent call last):\n",
      "  File \"C:\\Users\\liuke\\AppData\\Local\\Temp\\ipykernel_38964\\1486092911.py\", line 34, in <module>\n",
      "    cropped = cropRectangle(crop_coord, image)\n",
      "              ^^^^^^^^^^^^^^^^^^^^^^^^^^^^^^^^\n",
      "  File \"C:\\Users\\liuke\\AppData\\Local\\Temp\\ipykernel_38964\\2776285124.py\", line 4, in cropRectangle\n",
      "    angle = -math.tan((points[3] - points[1])/(points[2] - points[0]))/2 - math.tan((points[7] - points[5])/(points[6] - points[4]))/2\n",
      "             ^^^^^^^^^^^^^^^^^^^^^^^^^^^^^^^^^^^^^^^^^^^^^^^^^^^^^^^^^\n",
      "ValueError: math domain error\n"
     ]
    },
    {
     "name": "stdout",
     "output_type": "stream",
     "text": [
      "594\n",
      "595\n",
      "596\n",
      "597\n",
      "598\n",
      "599\n",
      "600\n",
      "601\n"
     ]
    },
    {
     "name": "stderr",
     "output_type": "stream",
     "text": [
      "Traceback (most recent call last):\n",
      "  File \"C:\\Users\\liuke\\AppData\\Local\\Temp\\ipykernel_38964\\1486092911.py\", line 45, in <module>\n",
      "    cropped = cv2.copyMakeBorder(cropped, 0, 0, 0, w_pad, cv2.BORDER_CONSTANT, None, 0)\n",
      "              ^^^^^^^^^^^^^^^^^^^^^^^^^^^^^^^^^^^^^^^^^^^^^^^^^^^^^^^^^^^^^^^^^^^^^^^^^\n",
      "cv2.error: OpenCV(4.8.1) D:\\a\\opencv-python\\opencv-python\\opencv\\modules\\core\\src\\copy.cpp:1026: error: (-215:Assertion failed) top >= 0 && bottom >= 0 && left >= 0 && right >= 0 && _src.dims() <= 2 in function 'cv::copyMakeBorder'\n",
      "\n"
     ]
    },
    {
     "name": "stdout",
     "output_type": "stream",
     "text": [
      "602\n",
      "603\n"
     ]
    },
    {
     "name": "stderr",
     "output_type": "stream",
     "text": [
      "Traceback (most recent call last):\n",
      "  File \"C:\\Users\\liuke\\AppData\\Local\\Temp\\ipykernel_38964\\1486092911.py\", line 45, in <module>\n",
      "    cropped = cv2.copyMakeBorder(cropped, 0, 0, 0, w_pad, cv2.BORDER_CONSTANT, None, 0)\n",
      "              ^^^^^^^^^^^^^^^^^^^^^^^^^^^^^^^^^^^^^^^^^^^^^^^^^^^^^^^^^^^^^^^^^^^^^^^^^\n",
      "cv2.error: OpenCV(4.8.1) D:\\a\\opencv-python\\opencv-python\\opencv\\modules\\core\\src\\copy.cpp:1026: error: (-215:Assertion failed) top >= 0 && bottom >= 0 && left >= 0 && right >= 0 && _src.dims() <= 2 in function 'cv::copyMakeBorder'\n",
      "\n"
     ]
    },
    {
     "name": "stdout",
     "output_type": "stream",
     "text": [
      "604\n",
      "605\n"
     ]
    },
    {
     "name": "stderr",
     "output_type": "stream",
     "text": [
      "Traceback (most recent call last):\n",
      "  File \"C:\\Users\\liuke\\AppData\\Local\\Temp\\ipykernel_38964\\1486092911.py\", line 45, in <module>\n",
      "    cropped = cv2.copyMakeBorder(cropped, 0, 0, 0, w_pad, cv2.BORDER_CONSTANT, None, 0)\n",
      "              ^^^^^^^^^^^^^^^^^^^^^^^^^^^^^^^^^^^^^^^^^^^^^^^^^^^^^^^^^^^^^^^^^^^^^^^^^\n",
      "cv2.error: OpenCV(4.8.1) D:\\a\\opencv-python\\opencv-python\\opencv\\modules\\core\\src\\copy.cpp:1026: error: (-215:Assertion failed) top >= 0 && bottom >= 0 && left >= 0 && right >= 0 && _src.dims() <= 2 in function 'cv::copyMakeBorder'\n",
      "\n"
     ]
    },
    {
     "name": "stdout",
     "output_type": "stream",
     "text": [
      "606\n"
     ]
    },
    {
     "name": "stderr",
     "output_type": "stream",
     "text": [
      "Traceback (most recent call last):\n",
      "  File \"C:\\Users\\liuke\\AppData\\Local\\Temp\\ipykernel_38964\\1486092911.py\", line 45, in <module>\n",
      "    cropped = cv2.copyMakeBorder(cropped, 0, 0, 0, w_pad, cv2.BORDER_CONSTANT, None, 0)\n",
      "              ^^^^^^^^^^^^^^^^^^^^^^^^^^^^^^^^^^^^^^^^^^^^^^^^^^^^^^^^^^^^^^^^^^^^^^^^^\n",
      "cv2.error: OpenCV(4.8.1) D:\\a\\opencv-python\\opencv-python\\opencv\\modules\\core\\src\\copy.cpp:1026: error: (-215:Assertion failed) top >= 0 && bottom >= 0 && left >= 0 && right >= 0 && _src.dims() <= 2 in function 'cv::copyMakeBorder'\n",
      "\n"
     ]
    },
    {
     "name": "stdout",
     "output_type": "stream",
     "text": [
      "607\n",
      "608\n",
      "609\n"
     ]
    },
    {
     "name": "stderr",
     "output_type": "stream",
     "text": [
      "Traceback (most recent call last):\n",
      "  File \"C:\\Users\\liuke\\AppData\\Local\\Temp\\ipykernel_38964\\1486092911.py\", line 34, in <module>\n",
      "    cropped = cropRectangle(crop_coord, image)\n",
      "              ^^^^^^^^^^^^^^^^^^^^^^^^^^^^^^^^\n",
      "  File \"C:\\Users\\liuke\\AppData\\Local\\Temp\\ipykernel_38964\\2776285124.py\", line 4, in cropRectangle\n",
      "    angle = -math.tan((points[3] - points[1])/(points[2] - points[0]))/2 - math.tan((points[7] - points[5])/(points[6] - points[4]))/2\n",
      "             ^^^^^^^^^^^^^^^^^^^^^^^^^^^^^^^^^^^^^^^^^^^^^^^^^^^^^^^^^\n",
      "ValueError: math domain error\n",
      "Traceback (most recent call last):\n",
      "  File \"C:\\Users\\liuke\\AppData\\Local\\Temp\\ipykernel_38964\\1486092911.py\", line 45, in <module>\n",
      "    cropped = cv2.copyMakeBorder(cropped, 0, 0, 0, w_pad, cv2.BORDER_CONSTANT, None, 0)\n",
      "              ^^^^^^^^^^^^^^^^^^^^^^^^^^^^^^^^^^^^^^^^^^^^^^^^^^^^^^^^^^^^^^^^^^^^^^^^^\n",
      "cv2.error: OpenCV(4.8.1) D:\\a\\opencv-python\\opencv-python\\opencv\\modules\\core\\src\\copy.cpp:1026: error: (-215:Assertion failed) top >= 0 && bottom >= 0 && left >= 0 && right >= 0 && _src.dims() <= 2 in function 'cv::copyMakeBorder'\n",
      "\n"
     ]
    },
    {
     "name": "stdout",
     "output_type": "stream",
     "text": [
      "610\n"
     ]
    },
    {
     "name": "stderr",
     "output_type": "stream",
     "text": [
      "Traceback (most recent call last):\n",
      "  File \"C:\\Users\\liuke\\AppData\\Local\\Temp\\ipykernel_38964\\1486092911.py\", line 45, in <module>\n",
      "    cropped = cv2.copyMakeBorder(cropped, 0, 0, 0, w_pad, cv2.BORDER_CONSTANT, None, 0)\n",
      "              ^^^^^^^^^^^^^^^^^^^^^^^^^^^^^^^^^^^^^^^^^^^^^^^^^^^^^^^^^^^^^^^^^^^^^^^^^\n",
      "cv2.error: OpenCV(4.8.1) D:\\a\\opencv-python\\opencv-python\\opencv\\modules\\core\\src\\copy.cpp:1026: error: (-215:Assertion failed) top >= 0 && bottom >= 0 && left >= 0 && right >= 0 && _src.dims() <= 2 in function 'cv::copyMakeBorder'\n",
      "\n"
     ]
    },
    {
     "name": "stdout",
     "output_type": "stream",
     "text": [
      "611\n",
      "612\n"
     ]
    },
    {
     "name": "stderr",
     "output_type": "stream",
     "text": [
      "Traceback (most recent call last):\n",
      "  File \"C:\\Users\\liuke\\AppData\\Local\\Temp\\ipykernel_38964\\1486092911.py\", line 45, in <module>\n",
      "    cropped = cv2.copyMakeBorder(cropped, 0, 0, 0, w_pad, cv2.BORDER_CONSTANT, None, 0)\n",
      "              ^^^^^^^^^^^^^^^^^^^^^^^^^^^^^^^^^^^^^^^^^^^^^^^^^^^^^^^^^^^^^^^^^^^^^^^^^\n",
      "cv2.error: OpenCV(4.8.1) D:\\a\\opencv-python\\opencv-python\\opencv\\modules\\core\\src\\copy.cpp:1026: error: (-215:Assertion failed) top >= 0 && bottom >= 0 && left >= 0 && right >= 0 && _src.dims() <= 2 in function 'cv::copyMakeBorder'\n",
      "\n"
     ]
    },
    {
     "name": "stdout",
     "output_type": "stream",
     "text": [
      "613\n",
      "614\n",
      "615\n",
      "616\n"
     ]
    },
    {
     "name": "stderr",
     "output_type": "stream",
     "text": [
      "Traceback (most recent call last):\n",
      "  File \"C:\\Users\\liuke\\AppData\\Local\\Temp\\ipykernel_38964\\1486092911.py\", line 34, in <module>\n",
      "    cropped = cropRectangle(crop_coord, image)\n",
      "              ^^^^^^^^^^^^^^^^^^^^^^^^^^^^^^^^\n",
      "  File \"C:\\Users\\liuke\\AppData\\Local\\Temp\\ipykernel_38964\\2776285124.py\", line 4, in cropRectangle\n",
      "    angle = -math.tan((points[3] - points[1])/(points[2] - points[0]))/2 - math.tan((points[7] - points[5])/(points[6] - points[4]))/2\n",
      "             ^^^^^^^^^^^^^^^^^^^^^^^^^^^^^^^^^^^^^^^^^^^^^^^^^^^^^^^^^\n",
      "ValueError: math domain error\n"
     ]
    },
    {
     "name": "stdout",
     "output_type": "stream",
     "text": [
      "617\n"
     ]
    },
    {
     "name": "stderr",
     "output_type": "stream",
     "text": [
      "Traceback (most recent call last):\n",
      "  File \"C:\\Users\\liuke\\AppData\\Local\\Temp\\ipykernel_38964\\1486092911.py\", line 45, in <module>\n",
      "    cropped = cv2.copyMakeBorder(cropped, 0, 0, 0, w_pad, cv2.BORDER_CONSTANT, None, 0)\n",
      "              ^^^^^^^^^^^^^^^^^^^^^^^^^^^^^^^^^^^^^^^^^^^^^^^^^^^^^^^^^^^^^^^^^^^^^^^^^\n",
      "cv2.error: OpenCV(4.8.1) D:\\a\\opencv-python\\opencv-python\\opencv\\modules\\core\\src\\copy.cpp:1026: error: (-215:Assertion failed) top >= 0 && bottom >= 0 && left >= 0 && right >= 0 && _src.dims() <= 2 in function 'cv::copyMakeBorder'\n",
      "\n"
     ]
    },
    {
     "name": "stdout",
     "output_type": "stream",
     "text": [
      "618\n"
     ]
    },
    {
     "name": "stderr",
     "output_type": "stream",
     "text": [
      "Traceback (most recent call last):\n",
      "  File \"C:\\Users\\liuke\\AppData\\Local\\Temp\\ipykernel_38964\\1486092911.py\", line 34, in <module>\n",
      "    cropped = cropRectangle(crop_coord, image)\n",
      "              ^^^^^^^^^^^^^^^^^^^^^^^^^^^^^^^^\n",
      "  File \"C:\\Users\\liuke\\AppData\\Local\\Temp\\ipykernel_38964\\2776285124.py\", line 4, in cropRectangle\n",
      "    angle = -math.tan((points[3] - points[1])/(points[2] - points[0]))/2 - math.tan((points[7] - points[5])/(points[6] - points[4]))/2\n",
      "             ^^^^^^^^^^^^^^^^^^^^^^^^^^^^^^^^^^^^^^^^^^^^^^^^^^^^^^^^^\n",
      "ValueError: math domain error\n"
     ]
    },
    {
     "name": "stdout",
     "output_type": "stream",
     "text": [
      "619\n"
     ]
    },
    {
     "name": "stderr",
     "output_type": "stream",
     "text": [
      "Traceback (most recent call last):\n",
      "  File \"C:\\Users\\liuke\\AppData\\Local\\Temp\\ipykernel_38964\\1486092911.py\", line 45, in <module>\n",
      "    cropped = cv2.copyMakeBorder(cropped, 0, 0, 0, w_pad, cv2.BORDER_CONSTANT, None, 0)\n",
      "              ^^^^^^^^^^^^^^^^^^^^^^^^^^^^^^^^^^^^^^^^^^^^^^^^^^^^^^^^^^^^^^^^^^^^^^^^^\n",
      "cv2.error: OpenCV(4.8.1) D:\\a\\opencv-python\\opencv-python\\opencv\\modules\\core\\src\\copy.cpp:1026: error: (-215:Assertion failed) top >= 0 && bottom >= 0 && left >= 0 && right >= 0 && _src.dims() <= 2 in function 'cv::copyMakeBorder'\n",
      "\n"
     ]
    },
    {
     "name": "stdout",
     "output_type": "stream",
     "text": [
      "620\n",
      "621\n",
      "622\n"
     ]
    },
    {
     "name": "stderr",
     "output_type": "stream",
     "text": [
      "Traceback (most recent call last):\n",
      "  File \"C:\\Users\\liuke\\AppData\\Local\\Temp\\ipykernel_38964\\1486092911.py\", line 45, in <module>\n",
      "    cropped = cv2.copyMakeBorder(cropped, 0, 0, 0, w_pad, cv2.BORDER_CONSTANT, None, 0)\n",
      "              ^^^^^^^^^^^^^^^^^^^^^^^^^^^^^^^^^^^^^^^^^^^^^^^^^^^^^^^^^^^^^^^^^^^^^^^^^\n",
      "cv2.error: OpenCV(4.8.1) D:\\a\\opencv-python\\opencv-python\\opencv\\modules\\core\\src\\copy.cpp:1026: error: (-215:Assertion failed) top >= 0 && bottom >= 0 && left >= 0 && right >= 0 && _src.dims() <= 2 in function 'cv::copyMakeBorder'\n",
      "\n"
     ]
    },
    {
     "name": "stdout",
     "output_type": "stream",
     "text": [
      "623\n",
      "624\n"
     ]
    },
    {
     "name": "stderr",
     "output_type": "stream",
     "text": [
      "Traceback (most recent call last):\n",
      "  File \"C:\\Users\\liuke\\AppData\\Local\\Temp\\ipykernel_38964\\1486092911.py\", line 45, in <module>\n",
      "    cropped = cv2.copyMakeBorder(cropped, 0, 0, 0, w_pad, cv2.BORDER_CONSTANT, None, 0)\n",
      "              ^^^^^^^^^^^^^^^^^^^^^^^^^^^^^^^^^^^^^^^^^^^^^^^^^^^^^^^^^^^^^^^^^^^^^^^^^\n",
      "cv2.error: OpenCV(4.8.1) D:\\a\\opencv-python\\opencv-python\\opencv\\modules\\core\\src\\copy.cpp:1026: error: (-215:Assertion failed) top >= 0 && bottom >= 0 && left >= 0 && right >= 0 && _src.dims() <= 2 in function 'cv::copyMakeBorder'\n",
      "\n"
     ]
    },
    {
     "name": "stdout",
     "output_type": "stream",
     "text": [
      "625\n",
      "626\n"
     ]
    },
    {
     "name": "stderr",
     "output_type": "stream",
     "text": [
      "Traceback (most recent call last):\n",
      "  File \"C:\\Users\\liuke\\AppData\\Local\\Temp\\ipykernel_38964\\1486092911.py\", line 34, in <module>\n",
      "    cropped = cropRectangle(crop_coord, image)\n",
      "              ^^^^^^^^^^^^^^^^^^^^^^^^^^^^^^^^\n",
      "  File \"C:\\Users\\liuke\\AppData\\Local\\Temp\\ipykernel_38964\\2776285124.py\", line 14, in cropRectangle\n",
      "    final = cv2.cvtColor(final, cv2.COLOR_BGR2GRAY)#grayscaling\n",
      "            ^^^^^^^^^^^^^^^^^^^^^^^^^^^^^^^^^^^^^^^\n",
      "cv2.error: OpenCV(4.8.1) D:\\a\\opencv-python\\opencv-python\\opencv\\modules\\imgproc\\src\\color.cpp:182: error: (-215:Assertion failed) !_src.empty() in function 'cv::cvtColor'\n",
      "\n"
     ]
    },
    {
     "name": "stdout",
     "output_type": "stream",
     "text": [
      "627\n"
     ]
    },
    {
     "name": "stderr",
     "output_type": "stream",
     "text": [
      "Traceback (most recent call last):\n",
      "  File \"C:\\Users\\liuke\\AppData\\Local\\Temp\\ipykernel_38964\\1486092911.py\", line 34, in <module>\n",
      "    cropped = cropRectangle(crop_coord, image)\n",
      "              ^^^^^^^^^^^^^^^^^^^^^^^^^^^^^^^^\n",
      "  File \"C:\\Users\\liuke\\AppData\\Local\\Temp\\ipykernel_38964\\2776285124.py\", line 14, in cropRectangle\n",
      "    final = cv2.cvtColor(final, cv2.COLOR_BGR2GRAY)#grayscaling\n",
      "            ^^^^^^^^^^^^^^^^^^^^^^^^^^^^^^^^^^^^^^^\n",
      "cv2.error: OpenCV(4.8.1) D:\\a\\opencv-python\\opencv-python\\opencv\\modules\\imgproc\\src\\color.cpp:182: error: (-215:Assertion failed) !_src.empty() in function 'cv::cvtColor'\n",
      "\n"
     ]
    },
    {
     "name": "stdout",
     "output_type": "stream",
     "text": [
      "628\n",
      "629\n"
     ]
    },
    {
     "name": "stderr",
     "output_type": "stream",
     "text": [
      "Traceback (most recent call last):\n",
      "  File \"C:\\Users\\liuke\\AppData\\Local\\Temp\\ipykernel_38964\\1486092911.py\", line 45, in <module>\n",
      "    cropped = cv2.copyMakeBorder(cropped, 0, 0, 0, w_pad, cv2.BORDER_CONSTANT, None, 0)\n",
      "              ^^^^^^^^^^^^^^^^^^^^^^^^^^^^^^^^^^^^^^^^^^^^^^^^^^^^^^^^^^^^^^^^^^^^^^^^^\n",
      "cv2.error: OpenCV(4.8.1) D:\\a\\opencv-python\\opencv-python\\opencv\\modules\\core\\src\\copy.cpp:1026: error: (-215:Assertion failed) top >= 0 && bottom >= 0 && left >= 0 && right >= 0 && _src.dims() <= 2 in function 'cv::copyMakeBorder'\n",
      "\n"
     ]
    },
    {
     "name": "stdout",
     "output_type": "stream",
     "text": [
      "630\n",
      "631\n"
     ]
    },
    {
     "name": "stderr",
     "output_type": "stream",
     "text": [
      "Traceback (most recent call last):\n",
      "  File \"C:\\Users\\liuke\\AppData\\Local\\Temp\\ipykernel_38964\\1486092911.py\", line 45, in <module>\n",
      "    cropped = cv2.copyMakeBorder(cropped, 0, 0, 0, w_pad, cv2.BORDER_CONSTANT, None, 0)\n",
      "              ^^^^^^^^^^^^^^^^^^^^^^^^^^^^^^^^^^^^^^^^^^^^^^^^^^^^^^^^^^^^^^^^^^^^^^^^^\n",
      "cv2.error: OpenCV(4.8.1) D:\\a\\opencv-python\\opencv-python\\opencv\\modules\\core\\src\\copy.cpp:1026: error: (-215:Assertion failed) top >= 0 && bottom >= 0 && left >= 0 && right >= 0 && _src.dims() <= 2 in function 'cv::copyMakeBorder'\n",
      "\n"
     ]
    },
    {
     "name": "stdout",
     "output_type": "stream",
     "text": [
      "632\n"
     ]
    },
    {
     "name": "stderr",
     "output_type": "stream",
     "text": [
      "Traceback (most recent call last):\n",
      "  File \"C:\\Users\\liuke\\AppData\\Local\\Temp\\ipykernel_38964\\1486092911.py\", line 45, in <module>\n",
      "    cropped = cv2.copyMakeBorder(cropped, 0, 0, 0, w_pad, cv2.BORDER_CONSTANT, None, 0)\n",
      "              ^^^^^^^^^^^^^^^^^^^^^^^^^^^^^^^^^^^^^^^^^^^^^^^^^^^^^^^^^^^^^^^^^^^^^^^^^\n",
      "cv2.error: OpenCV(4.8.1) D:\\a\\opencv-python\\opencv-python\\opencv\\modules\\core\\src\\copy.cpp:1026: error: (-215:Assertion failed) top >= 0 && bottom >= 0 && left >= 0 && right >= 0 && _src.dims() <= 2 in function 'cv::copyMakeBorder'\n",
      "\n"
     ]
    },
    {
     "name": "stdout",
     "output_type": "stream",
     "text": [
      "633\n"
     ]
    },
    {
     "name": "stderr",
     "output_type": "stream",
     "text": [
      "Traceback (most recent call last):\n",
      "  File \"C:\\Users\\liuke\\AppData\\Local\\Temp\\ipykernel_38964\\1486092911.py\", line 45, in <module>\n",
      "    cropped = cv2.copyMakeBorder(cropped, 0, 0, 0, w_pad, cv2.BORDER_CONSTANT, None, 0)\n",
      "              ^^^^^^^^^^^^^^^^^^^^^^^^^^^^^^^^^^^^^^^^^^^^^^^^^^^^^^^^^^^^^^^^^^^^^^^^^\n",
      "cv2.error: OpenCV(4.8.1) D:\\a\\opencv-python\\opencv-python\\opencv\\modules\\core\\src\\copy.cpp:1026: error: (-215:Assertion failed) top >= 0 && bottom >= 0 && left >= 0 && right >= 0 && _src.dims() <= 2 in function 'cv::copyMakeBorder'\n",
      "\n"
     ]
    },
    {
     "name": "stdout",
     "output_type": "stream",
     "text": [
      "634\n"
     ]
    },
    {
     "name": "stderr",
     "output_type": "stream",
     "text": [
      "Traceback (most recent call last):\n",
      "  File \"C:\\Users\\liuke\\AppData\\Local\\Temp\\ipykernel_38964\\1486092911.py\", line 45, in <module>\n",
      "    cropped = cv2.copyMakeBorder(cropped, 0, 0, 0, w_pad, cv2.BORDER_CONSTANT, None, 0)\n",
      "              ^^^^^^^^^^^^^^^^^^^^^^^^^^^^^^^^^^^^^^^^^^^^^^^^^^^^^^^^^^^^^^^^^^^^^^^^^\n",
      "cv2.error: OpenCV(4.8.1) D:\\a\\opencv-python\\opencv-python\\opencv\\modules\\core\\src\\copy.cpp:1026: error: (-215:Assertion failed) top >= 0 && bottom >= 0 && left >= 0 && right >= 0 && _src.dims() <= 2 in function 'cv::copyMakeBorder'\n",
      "\n"
     ]
    },
    {
     "name": "stdout",
     "output_type": "stream",
     "text": [
      "635\n"
     ]
    },
    {
     "name": "stderr",
     "output_type": "stream",
     "text": [
      "Traceback (most recent call last):\n",
      "  File \"C:\\Users\\liuke\\AppData\\Local\\Temp\\ipykernel_38964\\1486092911.py\", line 34, in <module>\n",
      "    cropped = cropRectangle(crop_coord, image)\n",
      "              ^^^^^^^^^^^^^^^^^^^^^^^^^^^^^^^^\n",
      "  File \"C:\\Users\\liuke\\AppData\\Local\\Temp\\ipykernel_38964\\2776285124.py\", line 4, in cropRectangle\n",
      "    angle = -math.tan((points[3] - points[1])/(points[2] - points[0]))/2 - math.tan((points[7] - points[5])/(points[6] - points[4]))/2\n",
      "             ^^^^^^^^^^^^^^^^^^^^^^^^^^^^^^^^^^^^^^^^^^^^^^^^^^^^^^^^^\n",
      "ValueError: math domain error\n",
      "Traceback (most recent call last):\n",
      "  File \"C:\\Users\\liuke\\AppData\\Local\\Temp\\ipykernel_38964\\1486092911.py\", line 34, in <module>\n",
      "    cropped = cropRectangle(crop_coord, image)\n",
      "              ^^^^^^^^^^^^^^^^^^^^^^^^^^^^^^^^\n",
      "  File \"C:\\Users\\liuke\\AppData\\Local\\Temp\\ipykernel_38964\\2776285124.py\", line 4, in cropRectangle\n",
      "    angle = -math.tan((points[3] - points[1])/(points[2] - points[0]))/2 - math.tan((points[7] - points[5])/(points[6] - points[4]))/2\n",
      "             ^^^^^^^^^^^^^^^^^^^^^^^^^^^^^^^^^^^^^^^^^^^^^^^^^^^^^^^^^\n",
      "ValueError: math domain error\n"
     ]
    },
    {
     "name": "stdout",
     "output_type": "stream",
     "text": [
      "636\n",
      "637\n"
     ]
    },
    {
     "name": "stderr",
     "output_type": "stream",
     "text": [
      "Traceback (most recent call last):\n",
      "  File \"C:\\Users\\liuke\\AppData\\Local\\Temp\\ipykernel_38964\\1486092911.py\", line 34, in <module>\n",
      "    cropped = cropRectangle(crop_coord, image)\n",
      "              ^^^^^^^^^^^^^^^^^^^^^^^^^^^^^^^^\n",
      "  File \"C:\\Users\\liuke\\AppData\\Local\\Temp\\ipykernel_38964\\2776285124.py\", line 14, in cropRectangle\n",
      "    final = cv2.cvtColor(final, cv2.COLOR_BGR2GRAY)#grayscaling\n",
      "            ^^^^^^^^^^^^^^^^^^^^^^^^^^^^^^^^^^^^^^^\n",
      "cv2.error: OpenCV(4.8.1) D:\\a\\opencv-python\\opencv-python\\opencv\\modules\\imgproc\\src\\color.cpp:182: error: (-215:Assertion failed) !_src.empty() in function 'cv::cvtColor'\n",
      "\n"
     ]
    },
    {
     "name": "stdout",
     "output_type": "stream",
     "text": [
      "638\n",
      "639\n"
     ]
    },
    {
     "name": "stderr",
     "output_type": "stream",
     "text": [
      "Traceback (most recent call last):\n",
      "  File \"C:\\Users\\liuke\\AppData\\Local\\Temp\\ipykernel_38964\\1486092911.py\", line 45, in <module>\n",
      "    cropped = cv2.copyMakeBorder(cropped, 0, 0, 0, w_pad, cv2.BORDER_CONSTANT, None, 0)\n",
      "              ^^^^^^^^^^^^^^^^^^^^^^^^^^^^^^^^^^^^^^^^^^^^^^^^^^^^^^^^^^^^^^^^^^^^^^^^^\n",
      "cv2.error: OpenCV(4.8.1) D:\\a\\opencv-python\\opencv-python\\opencv\\modules\\core\\src\\copy.cpp:1026: error: (-215:Assertion failed) top >= 0 && bottom >= 0 && left >= 0 && right >= 0 && _src.dims() <= 2 in function 'cv::copyMakeBorder'\n",
      "\n"
     ]
    },
    {
     "name": "stdout",
     "output_type": "stream",
     "text": [
      "640\n",
      "641\n",
      "642\n",
      "643\n",
      "644\n"
     ]
    },
    {
     "name": "stderr",
     "output_type": "stream",
     "text": [
      "Traceback (most recent call last):\n",
      "  File \"C:\\Users\\liuke\\AppData\\Local\\Temp\\ipykernel_38964\\1486092911.py\", line 45, in <module>\n",
      "    cropped = cv2.copyMakeBorder(cropped, 0, 0, 0, w_pad, cv2.BORDER_CONSTANT, None, 0)\n",
      "              ^^^^^^^^^^^^^^^^^^^^^^^^^^^^^^^^^^^^^^^^^^^^^^^^^^^^^^^^^^^^^^^^^^^^^^^^^\n",
      "cv2.error: OpenCV(4.8.1) D:\\a\\opencv-python\\opencv-python\\opencv\\modules\\core\\src\\copy.cpp:1026: error: (-215:Assertion failed) top >= 0 && bottom >= 0 && left >= 0 && right >= 0 && _src.dims() <= 2 in function 'cv::copyMakeBorder'\n",
      "\n"
     ]
    },
    {
     "name": "stdout",
     "output_type": "stream",
     "text": [
      "645\n"
     ]
    },
    {
     "name": "stderr",
     "output_type": "stream",
     "text": [
      "Traceback (most recent call last):\n",
      "  File \"C:\\Users\\liuke\\AppData\\Local\\Temp\\ipykernel_38964\\1486092911.py\", line 34, in <module>\n",
      "    cropped = cropRectangle(crop_coord, image)\n",
      "              ^^^^^^^^^^^^^^^^^^^^^^^^^^^^^^^^\n",
      "  File \"C:\\Users\\liuke\\AppData\\Local\\Temp\\ipykernel_38964\\2776285124.py\", line 4, in cropRectangle\n",
      "    angle = -math.tan((points[3] - points[1])/(points[2] - points[0]))/2 - math.tan((points[7] - points[5])/(points[6] - points[4]))/2\n",
      "                                                                           ^^^^^^^^^^^^^^^^^^^^^^^^^^^^^^^^^^^^^^^^^^^^^^^^^^^^^^^^^\n",
      "ValueError: math domain error\n"
     ]
    },
    {
     "name": "stdout",
     "output_type": "stream",
     "text": [
      "646\n",
      "647\n",
      "648\n"
     ]
    },
    {
     "name": "stderr",
     "output_type": "stream",
     "text": [
      "Traceback (most recent call last):\n",
      "  File \"C:\\Users\\liuke\\AppData\\Local\\Temp\\ipykernel_38964\\1486092911.py\", line 45, in <module>\n",
      "    cropped = cv2.copyMakeBorder(cropped, 0, 0, 0, w_pad, cv2.BORDER_CONSTANT, None, 0)\n",
      "              ^^^^^^^^^^^^^^^^^^^^^^^^^^^^^^^^^^^^^^^^^^^^^^^^^^^^^^^^^^^^^^^^^^^^^^^^^\n",
      "cv2.error: OpenCV(4.8.1) D:\\a\\opencv-python\\opencv-python\\opencv\\modules\\core\\src\\copy.cpp:1026: error: (-215:Assertion failed) top >= 0 && bottom >= 0 && left >= 0 && right >= 0 && _src.dims() <= 2 in function 'cv::copyMakeBorder'\n",
      "\n"
     ]
    },
    {
     "name": "stdout",
     "output_type": "stream",
     "text": [
      "649\n",
      "650\n"
     ]
    },
    {
     "name": "stderr",
     "output_type": "stream",
     "text": [
      "Traceback (most recent call last):\n",
      "  File \"C:\\Users\\liuke\\AppData\\Local\\Temp\\ipykernel_38964\\1486092911.py\", line 45, in <module>\n",
      "    cropped = cv2.copyMakeBorder(cropped, 0, 0, 0, w_pad, cv2.BORDER_CONSTANT, None, 0)\n",
      "              ^^^^^^^^^^^^^^^^^^^^^^^^^^^^^^^^^^^^^^^^^^^^^^^^^^^^^^^^^^^^^^^^^^^^^^^^^\n",
      "cv2.error: OpenCV(4.8.1) D:\\a\\opencv-python\\opencv-python\\opencv\\modules\\core\\src\\copy.cpp:1026: error: (-215:Assertion failed) top >= 0 && bottom >= 0 && left >= 0 && right >= 0 && _src.dims() <= 2 in function 'cv::copyMakeBorder'\n",
      "\n"
     ]
    },
    {
     "name": "stdout",
     "output_type": "stream",
     "text": [
      "651\n",
      "652\n"
     ]
    },
    {
     "name": "stderr",
     "output_type": "stream",
     "text": [
      "Traceback (most recent call last):\n",
      "  File \"C:\\Users\\liuke\\AppData\\Local\\Temp\\ipykernel_38964\\1486092911.py\", line 34, in <module>\n",
      "    cropped = cropRectangle(crop_coord, image)\n",
      "              ^^^^^^^^^^^^^^^^^^^^^^^^^^^^^^^^\n",
      "  File \"C:\\Users\\liuke\\AppData\\Local\\Temp\\ipykernel_38964\\2776285124.py\", line 14, in cropRectangle\n",
      "    final = cv2.cvtColor(final, cv2.COLOR_BGR2GRAY)#grayscaling\n",
      "            ^^^^^^^^^^^^^^^^^^^^^^^^^^^^^^^^^^^^^^^\n",
      "cv2.error: OpenCV(4.8.1) D:\\a\\opencv-python\\opencv-python\\opencv\\modules\\imgproc\\src\\color.cpp:182: error: (-215:Assertion failed) !_src.empty() in function 'cv::cvtColor'\n",
      "\n"
     ]
    },
    {
     "name": "stdout",
     "output_type": "stream",
     "text": [
      "653\n",
      "654\n"
     ]
    },
    {
     "name": "stderr",
     "output_type": "stream",
     "text": [
      "Traceback (most recent call last):\n",
      "  File \"C:\\Users\\liuke\\AppData\\Local\\Temp\\ipykernel_38964\\1486092911.py\", line 34, in <module>\n",
      "    cropped = cropRectangle(crop_coord, image)\n",
      "              ^^^^^^^^^^^^^^^^^^^^^^^^^^^^^^^^\n",
      "  File \"C:\\Users\\liuke\\AppData\\Local\\Temp\\ipykernel_38964\\2776285124.py\", line 4, in cropRectangle\n",
      "    angle = -math.tan((points[3] - points[1])/(points[2] - points[0]))/2 - math.tan((points[7] - points[5])/(points[6] - points[4]))/2\n",
      "             ^^^^^^^^^^^^^^^^^^^^^^^^^^^^^^^^^^^^^^^^^^^^^^^^^^^^^^^^^\n",
      "ValueError: math domain error\n"
     ]
    },
    {
     "name": "stdout",
     "output_type": "stream",
     "text": [
      "655\n",
      "656\n"
     ]
    },
    {
     "name": "stderr",
     "output_type": "stream",
     "text": [
      "Traceback (most recent call last):\n",
      "  File \"C:\\Users\\liuke\\AppData\\Local\\Temp\\ipykernel_38964\\1486092911.py\", line 45, in <module>\n",
      "    cropped = cv2.copyMakeBorder(cropped, 0, 0, 0, w_pad, cv2.BORDER_CONSTANT, None, 0)\n",
      "              ^^^^^^^^^^^^^^^^^^^^^^^^^^^^^^^^^^^^^^^^^^^^^^^^^^^^^^^^^^^^^^^^^^^^^^^^^\n",
      "cv2.error: OpenCV(4.8.1) D:\\a\\opencv-python\\opencv-python\\opencv\\modules\\core\\src\\copy.cpp:1026: error: (-215:Assertion failed) top >= 0 && bottom >= 0 && left >= 0 && right >= 0 && _src.dims() <= 2 in function 'cv::copyMakeBorder'\n",
      "\n"
     ]
    },
    {
     "name": "stdout",
     "output_type": "stream",
     "text": [
      "657\n"
     ]
    },
    {
     "name": "stderr",
     "output_type": "stream",
     "text": [
      "Traceback (most recent call last):\n",
      "  File \"C:\\Users\\liuke\\AppData\\Local\\Temp\\ipykernel_38964\\1486092911.py\", line 45, in <module>\n",
      "    cropped = cv2.copyMakeBorder(cropped, 0, 0, 0, w_pad, cv2.BORDER_CONSTANT, None, 0)\n",
      "              ^^^^^^^^^^^^^^^^^^^^^^^^^^^^^^^^^^^^^^^^^^^^^^^^^^^^^^^^^^^^^^^^^^^^^^^^^\n",
      "cv2.error: OpenCV(4.8.1) D:\\a\\opencv-python\\opencv-python\\opencv\\modules\\core\\src\\copy.cpp:1026: error: (-215:Assertion failed) top >= 0 && bottom >= 0 && left >= 0 && right >= 0 && _src.dims() <= 2 in function 'cv::copyMakeBorder'\n",
      "\n"
     ]
    },
    {
     "name": "stdout",
     "output_type": "stream",
     "text": [
      "658\n",
      "659\n",
      "660\n",
      "661\n",
      "662\n"
     ]
    },
    {
     "name": "stderr",
     "output_type": "stream",
     "text": [
      "Traceback (most recent call last):\n",
      "  File \"C:\\Users\\liuke\\AppData\\Local\\Temp\\ipykernel_38964\\1486092911.py\", line 45, in <module>\n",
      "    cropped = cv2.copyMakeBorder(cropped, 0, 0, 0, w_pad, cv2.BORDER_CONSTANT, None, 0)\n",
      "              ^^^^^^^^^^^^^^^^^^^^^^^^^^^^^^^^^^^^^^^^^^^^^^^^^^^^^^^^^^^^^^^^^^^^^^^^^\n",
      "cv2.error: OpenCV(4.8.1) D:\\a\\opencv-python\\opencv-python\\opencv\\modules\\core\\src\\copy.cpp:1026: error: (-215:Assertion failed) top >= 0 && bottom >= 0 && left >= 0 && right >= 0 && _src.dims() <= 2 in function 'cv::copyMakeBorder'\n",
      "\n"
     ]
    },
    {
     "name": "stdout",
     "output_type": "stream",
     "text": [
      "663\n"
     ]
    },
    {
     "name": "stderr",
     "output_type": "stream",
     "text": [
      "C:\\Users\\liuke\\AppData\\Local\\Temp\\ipykernel_38964\\2776285124.py:4: RuntimeWarning: invalid value encountered in scalar divide\n",
      "  angle = -math.tan((points[3] - points[1])/(points[2] - points[0]))/2 - math.tan((points[7] - points[5])/(points[6] - points[4]))/2\n",
      "Traceback (most recent call last):\n",
      "  File \"C:\\Users\\liuke\\AppData\\Local\\Temp\\ipykernel_38964\\1486092911.py\", line 34, in <module>\n",
      "    cropped = cropRectangle(crop_coord, image)\n",
      "              ^^^^^^^^^^^^^^^^^^^^^^^^^^^^^^^^\n",
      "  File \"C:\\Users\\liuke\\AppData\\Local\\Temp\\ipykernel_38964\\2776285124.py\", line 5, in cropRectangle\n",
      "    rotated = ndimage.rotate(image, angle * 180 / math.pi)\n",
      "              ^^^^^^^^^^^^^^^^^^^^^^^^^^^^^^^^^^^^^^^^^^^^\n",
      "  File \"C:\\ProgramData\\anaconda3\\Lib\\site-packages\\scipy\\ndimage\\_interpolation.py\", line 939, in rotate\n",
      "    output = _ni_support._get_output(output, input_arr, shape=output_shape,\n",
      "             ^^^^^^^^^^^^^^^^^^^^^^^^^^^^^^^^^^^^^^^^^^^^^^^^^^^^^^^^^^^^^^\n",
      "  File \"C:\\ProgramData\\anaconda3\\Lib\\site-packages\\scipy\\ndimage\\_ni_support.py\", line 79, in _get_output\n",
      "    output = numpy.zeros(shape, dtype=input.dtype.name)\n",
      "             ^^^^^^^^^^^^^^^^^^^^^^^^^^^^^^^^^^^^^^^^^^\n",
      "ValueError: negative dimensions are not allowed\n"
     ]
    },
    {
     "name": "stdout",
     "output_type": "stream",
     "text": [
      "664\n",
      "665\n",
      "666\n"
     ]
    },
    {
     "name": "stderr",
     "output_type": "stream",
     "text": [
      "Traceback (most recent call last):\n",
      "  File \"C:\\Users\\liuke\\AppData\\Local\\Temp\\ipykernel_38964\\1486092911.py\", line 45, in <module>\n",
      "    cropped = cv2.copyMakeBorder(cropped, 0, 0, 0, w_pad, cv2.BORDER_CONSTANT, None, 0)\n",
      "              ^^^^^^^^^^^^^^^^^^^^^^^^^^^^^^^^^^^^^^^^^^^^^^^^^^^^^^^^^^^^^^^^^^^^^^^^^\n",
      "cv2.error: OpenCV(4.8.1) D:\\a\\opencv-python\\opencv-python\\opencv\\modules\\core\\src\\copy.cpp:1026: error: (-215:Assertion failed) top >= 0 && bottom >= 0 && left >= 0 && right >= 0 && _src.dims() <= 2 in function 'cv::copyMakeBorder'\n",
      "\n"
     ]
    },
    {
     "name": "stdout",
     "output_type": "stream",
     "text": [
      "667\n"
     ]
    },
    {
     "name": "stderr",
     "output_type": "stream",
     "text": [
      "Traceback (most recent call last):\n",
      "  File \"C:\\Users\\liuke\\AppData\\Local\\Temp\\ipykernel_38964\\1486092911.py\", line 45, in <module>\n",
      "    cropped = cv2.copyMakeBorder(cropped, 0, 0, 0, w_pad, cv2.BORDER_CONSTANT, None, 0)\n",
      "              ^^^^^^^^^^^^^^^^^^^^^^^^^^^^^^^^^^^^^^^^^^^^^^^^^^^^^^^^^^^^^^^^^^^^^^^^^\n",
      "cv2.error: OpenCV(4.8.1) D:\\a\\opencv-python\\opencv-python\\opencv\\modules\\core\\src\\copy.cpp:1026: error: (-215:Assertion failed) top >= 0 && bottom >= 0 && left >= 0 && right >= 0 && _src.dims() <= 2 in function 'cv::copyMakeBorder'\n",
      "\n"
     ]
    },
    {
     "name": "stdout",
     "output_type": "stream",
     "text": [
      "668\n"
     ]
    },
    {
     "name": "stderr",
     "output_type": "stream",
     "text": [
      "Traceback (most recent call last):\n",
      "  File \"C:\\Users\\liuke\\AppData\\Local\\Temp\\ipykernel_38964\\1486092911.py\", line 45, in <module>\n",
      "    cropped = cv2.copyMakeBorder(cropped, 0, 0, 0, w_pad, cv2.BORDER_CONSTANT, None, 0)\n",
      "              ^^^^^^^^^^^^^^^^^^^^^^^^^^^^^^^^^^^^^^^^^^^^^^^^^^^^^^^^^^^^^^^^^^^^^^^^^\n",
      "cv2.error: OpenCV(4.8.1) D:\\a\\opencv-python\\opencv-python\\opencv\\modules\\core\\src\\copy.cpp:1026: error: (-215:Assertion failed) top >= 0 && bottom >= 0 && left >= 0 && right >= 0 && _src.dims() <= 2 in function 'cv::copyMakeBorder'\n",
      "\n"
     ]
    },
    {
     "name": "stdout",
     "output_type": "stream",
     "text": [
      "669\n"
     ]
    },
    {
     "name": "stderr",
     "output_type": "stream",
     "text": [
      "Traceback (most recent call last):\n",
      "  File \"C:\\Users\\liuke\\AppData\\Local\\Temp\\ipykernel_38964\\1486092911.py\", line 45, in <module>\n",
      "    cropped = cv2.copyMakeBorder(cropped, 0, 0, 0, w_pad, cv2.BORDER_CONSTANT, None, 0)\n",
      "              ^^^^^^^^^^^^^^^^^^^^^^^^^^^^^^^^^^^^^^^^^^^^^^^^^^^^^^^^^^^^^^^^^^^^^^^^^\n",
      "cv2.error: OpenCV(4.8.1) D:\\a\\opencv-python\\opencv-python\\opencv\\modules\\core\\src\\copy.cpp:1026: error: (-215:Assertion failed) top >= 0 && bottom >= 0 && left >= 0 && right >= 0 && _src.dims() <= 2 in function 'cv::copyMakeBorder'\n",
      "\n"
     ]
    },
    {
     "name": "stdout",
     "output_type": "stream",
     "text": [
      "670\n",
      "671\n",
      "672\n"
     ]
    },
    {
     "name": "stderr",
     "output_type": "stream",
     "text": [
      "Traceback (most recent call last):\n",
      "  File \"C:\\Users\\liuke\\AppData\\Local\\Temp\\ipykernel_38964\\1486092911.py\", line 45, in <module>\n",
      "    cropped = cv2.copyMakeBorder(cropped, 0, 0, 0, w_pad, cv2.BORDER_CONSTANT, None, 0)\n",
      "              ^^^^^^^^^^^^^^^^^^^^^^^^^^^^^^^^^^^^^^^^^^^^^^^^^^^^^^^^^^^^^^^^^^^^^^^^^\n",
      "cv2.error: OpenCV(4.8.1) D:\\a\\opencv-python\\opencv-python\\opencv\\modules\\core\\src\\copy.cpp:1026: error: (-215:Assertion failed) top >= 0 && bottom >= 0 && left >= 0 && right >= 0 && _src.dims() <= 2 in function 'cv::copyMakeBorder'\n",
      "\n"
     ]
    },
    {
     "name": "stdout",
     "output_type": "stream",
     "text": [
      "673\n",
      "674\n",
      "675\n",
      "676\n",
      "677\n"
     ]
    },
    {
     "name": "stderr",
     "output_type": "stream",
     "text": [
      "Traceback (most recent call last):\n",
      "  File \"C:\\Users\\liuke\\AppData\\Local\\Temp\\ipykernel_38964\\1486092911.py\", line 45, in <module>\n",
      "    cropped = cv2.copyMakeBorder(cropped, 0, 0, 0, w_pad, cv2.BORDER_CONSTANT, None, 0)\n",
      "              ^^^^^^^^^^^^^^^^^^^^^^^^^^^^^^^^^^^^^^^^^^^^^^^^^^^^^^^^^^^^^^^^^^^^^^^^^\n",
      "cv2.error: OpenCV(4.8.1) D:\\a\\opencv-python\\opencv-python\\opencv\\modules\\core\\src\\copy.cpp:1026: error: (-215:Assertion failed) top >= 0 && bottom >= 0 && left >= 0 && right >= 0 && _src.dims() <= 2 in function 'cv::copyMakeBorder'\n",
      "\n"
     ]
    },
    {
     "name": "stdout",
     "output_type": "stream",
     "text": [
      "678\n"
     ]
    },
    {
     "name": "stderr",
     "output_type": "stream",
     "text": [
      "Traceback (most recent call last):\n",
      "  File \"C:\\Users\\liuke\\AppData\\Local\\Temp\\ipykernel_38964\\1486092911.py\", line 45, in <module>\n",
      "    cropped = cv2.copyMakeBorder(cropped, 0, 0, 0, w_pad, cv2.BORDER_CONSTANT, None, 0)\n",
      "              ^^^^^^^^^^^^^^^^^^^^^^^^^^^^^^^^^^^^^^^^^^^^^^^^^^^^^^^^^^^^^^^^^^^^^^^^^\n",
      "cv2.error: OpenCV(4.8.1) D:\\a\\opencv-python\\opencv-python\\opencv\\modules\\core\\src\\copy.cpp:1026: error: (-215:Assertion failed) top >= 0 && bottom >= 0 && left >= 0 && right >= 0 && _src.dims() <= 2 in function 'cv::copyMakeBorder'\n",
      "\n"
     ]
    },
    {
     "name": "stdout",
     "output_type": "stream",
     "text": [
      "679\n"
     ]
    },
    {
     "name": "stderr",
     "output_type": "stream",
     "text": [
      "Traceback (most recent call last):\n",
      "  File \"C:\\Users\\liuke\\AppData\\Local\\Temp\\ipykernel_38964\\1486092911.py\", line 45, in <module>\n",
      "    cropped = cv2.copyMakeBorder(cropped, 0, 0, 0, w_pad, cv2.BORDER_CONSTANT, None, 0)\n",
      "              ^^^^^^^^^^^^^^^^^^^^^^^^^^^^^^^^^^^^^^^^^^^^^^^^^^^^^^^^^^^^^^^^^^^^^^^^^\n",
      "cv2.error: OpenCV(4.8.1) D:\\a\\opencv-python\\opencv-python\\opencv\\modules\\core\\src\\copy.cpp:1026: error: (-215:Assertion failed) top >= 0 && bottom >= 0 && left >= 0 && right >= 0 && _src.dims() <= 2 in function 'cv::copyMakeBorder'\n",
      "\n"
     ]
    },
    {
     "name": "stdout",
     "output_type": "stream",
     "text": [
      "680\n"
     ]
    },
    {
     "name": "stderr",
     "output_type": "stream",
     "text": [
      "Traceback (most recent call last):\n",
      "  File \"C:\\Users\\liuke\\AppData\\Local\\Temp\\ipykernel_38964\\1486092911.py\", line 45, in <module>\n",
      "    cropped = cv2.copyMakeBorder(cropped, 0, 0, 0, w_pad, cv2.BORDER_CONSTANT, None, 0)\n",
      "              ^^^^^^^^^^^^^^^^^^^^^^^^^^^^^^^^^^^^^^^^^^^^^^^^^^^^^^^^^^^^^^^^^^^^^^^^^\n",
      "cv2.error: OpenCV(4.8.1) D:\\a\\opencv-python\\opencv-python\\opencv\\modules\\core\\src\\copy.cpp:1026: error: (-215:Assertion failed) top >= 0 && bottom >= 0 && left >= 0 && right >= 0 && _src.dims() <= 2 in function 'cv::copyMakeBorder'\n",
      "\n"
     ]
    },
    {
     "name": "stdout",
     "output_type": "stream",
     "text": [
      "681\n"
     ]
    },
    {
     "name": "stderr",
     "output_type": "stream",
     "text": [
      "Traceback (most recent call last):\n",
      "  File \"C:\\Users\\liuke\\AppData\\Local\\Temp\\ipykernel_38964\\1486092911.py\", line 45, in <module>\n",
      "    cropped = cv2.copyMakeBorder(cropped, 0, 0, 0, w_pad, cv2.BORDER_CONSTANT, None, 0)\n",
      "              ^^^^^^^^^^^^^^^^^^^^^^^^^^^^^^^^^^^^^^^^^^^^^^^^^^^^^^^^^^^^^^^^^^^^^^^^^\n",
      "cv2.error: OpenCV(4.8.1) D:\\a\\opencv-python\\opencv-python\\opencv\\modules\\core\\src\\copy.cpp:1026: error: (-215:Assertion failed) top >= 0 && bottom >= 0 && left >= 0 && right >= 0 && _src.dims() <= 2 in function 'cv::copyMakeBorder'\n",
      "\n"
     ]
    },
    {
     "name": "stdout",
     "output_type": "stream",
     "text": [
      "682\n"
     ]
    },
    {
     "name": "stderr",
     "output_type": "stream",
     "text": [
      "Traceback (most recent call last):\n",
      "  File \"C:\\Users\\liuke\\AppData\\Local\\Temp\\ipykernel_38964\\1486092911.py\", line 45, in <module>\n",
      "    cropped = cv2.copyMakeBorder(cropped, 0, 0, 0, w_pad, cv2.BORDER_CONSTANT, None, 0)\n",
      "              ^^^^^^^^^^^^^^^^^^^^^^^^^^^^^^^^^^^^^^^^^^^^^^^^^^^^^^^^^^^^^^^^^^^^^^^^^\n",
      "cv2.error: OpenCV(4.8.1) D:\\a\\opencv-python\\opencv-python\\opencv\\modules\\core\\src\\copy.cpp:1026: error: (-215:Assertion failed) top >= 0 && bottom >= 0 && left >= 0 && right >= 0 && _src.dims() <= 2 in function 'cv::copyMakeBorder'\n",
      "\n"
     ]
    },
    {
     "name": "stdout",
     "output_type": "stream",
     "text": [
      "683\n",
      "684\n"
     ]
    },
    {
     "name": "stderr",
     "output_type": "stream",
     "text": [
      "Traceback (most recent call last):\n",
      "  File \"C:\\Users\\liuke\\AppData\\Local\\Temp\\ipykernel_38964\\1486092911.py\", line 34, in <module>\n",
      "    cropped = cropRectangle(crop_coord, image)\n",
      "              ^^^^^^^^^^^^^^^^^^^^^^^^^^^^^^^^\n",
      "  File \"C:\\Users\\liuke\\AppData\\Local\\Temp\\ipykernel_38964\\2776285124.py\", line 14, in cropRectangle\n",
      "    final = cv2.cvtColor(final, cv2.COLOR_BGR2GRAY)#grayscaling\n",
      "            ^^^^^^^^^^^^^^^^^^^^^^^^^^^^^^^^^^^^^^^\n",
      "cv2.error: OpenCV(4.8.1) D:\\a\\opencv-python\\opencv-python\\opencv\\modules\\imgproc\\src\\color.cpp:182: error: (-215:Assertion failed) !_src.empty() in function 'cv::cvtColor'\n",
      "\n"
     ]
    },
    {
     "name": "stdout",
     "output_type": "stream",
     "text": [
      "685\n",
      "686\n"
     ]
    },
    {
     "name": "stderr",
     "output_type": "stream",
     "text": [
      "Traceback (most recent call last):\n",
      "  File \"C:\\Users\\liuke\\AppData\\Local\\Temp\\ipykernel_38964\\1486092911.py\", line 45, in <module>\n",
      "    cropped = cv2.copyMakeBorder(cropped, 0, 0, 0, w_pad, cv2.BORDER_CONSTANT, None, 0)\n",
      "              ^^^^^^^^^^^^^^^^^^^^^^^^^^^^^^^^^^^^^^^^^^^^^^^^^^^^^^^^^^^^^^^^^^^^^^^^^\n",
      "cv2.error: OpenCV(4.8.1) D:\\a\\opencv-python\\opencv-python\\opencv\\modules\\core\\src\\copy.cpp:1026: error: (-215:Assertion failed) top >= 0 && bottom >= 0 && left >= 0 && right >= 0 && _src.dims() <= 2 in function 'cv::copyMakeBorder'\n",
      "\n"
     ]
    },
    {
     "name": "stdout",
     "output_type": "stream",
     "text": [
      "687\n",
      "688\n"
     ]
    },
    {
     "name": "stderr",
     "output_type": "stream",
     "text": [
      "Traceback (most recent call last):\n",
      "  File \"C:\\Users\\liuke\\AppData\\Local\\Temp\\ipykernel_38964\\1486092911.py\", line 45, in <module>\n",
      "    cropped = cv2.copyMakeBorder(cropped, 0, 0, 0, w_pad, cv2.BORDER_CONSTANT, None, 0)\n",
      "              ^^^^^^^^^^^^^^^^^^^^^^^^^^^^^^^^^^^^^^^^^^^^^^^^^^^^^^^^^^^^^^^^^^^^^^^^^\n",
      "cv2.error: OpenCV(4.8.1) D:\\a\\opencv-python\\opencv-python\\opencv\\modules\\core\\src\\copy.cpp:1026: error: (-215:Assertion failed) top >= 0 && bottom >= 0 && left >= 0 && right >= 0 && _src.dims() <= 2 in function 'cv::copyMakeBorder'\n",
      "\n"
     ]
    },
    {
     "name": "stdout",
     "output_type": "stream",
     "text": [
      "689\n"
     ]
    },
    {
     "name": "stderr",
     "output_type": "stream",
     "text": [
      "Traceback (most recent call last):\n",
      "  File \"C:\\Users\\liuke\\AppData\\Local\\Temp\\ipykernel_38964\\1486092911.py\", line 45, in <module>\n",
      "    cropped = cv2.copyMakeBorder(cropped, 0, 0, 0, w_pad, cv2.BORDER_CONSTANT, None, 0)\n",
      "              ^^^^^^^^^^^^^^^^^^^^^^^^^^^^^^^^^^^^^^^^^^^^^^^^^^^^^^^^^^^^^^^^^^^^^^^^^\n",
      "cv2.error: OpenCV(4.8.1) D:\\a\\opencv-python\\opencv-python\\opencv\\modules\\core\\src\\copy.cpp:1026: error: (-215:Assertion failed) top >= 0 && bottom >= 0 && left >= 0 && right >= 0 && _src.dims() <= 2 in function 'cv::copyMakeBorder'\n",
      "\n"
     ]
    },
    {
     "name": "stdout",
     "output_type": "stream",
     "text": [
      "690\n"
     ]
    },
    {
     "name": "stderr",
     "output_type": "stream",
     "text": [
      "Traceback (most recent call last):\n",
      "  File \"C:\\Users\\liuke\\AppData\\Local\\Temp\\ipykernel_38964\\1486092911.py\", line 45, in <module>\n",
      "    cropped = cv2.copyMakeBorder(cropped, 0, 0, 0, w_pad, cv2.BORDER_CONSTANT, None, 0)\n",
      "              ^^^^^^^^^^^^^^^^^^^^^^^^^^^^^^^^^^^^^^^^^^^^^^^^^^^^^^^^^^^^^^^^^^^^^^^^^\n",
      "cv2.error: OpenCV(4.8.1) D:\\a\\opencv-python\\opencv-python\\opencv\\modules\\core\\src\\copy.cpp:1026: error: (-215:Assertion failed) top >= 0 && bottom >= 0 && left >= 0 && right >= 0 && _src.dims() <= 2 in function 'cv::copyMakeBorder'\n",
      "\n"
     ]
    },
    {
     "name": "stdout",
     "output_type": "stream",
     "text": [
      "691\n"
     ]
    },
    {
     "name": "stderr",
     "output_type": "stream",
     "text": [
      "Traceback (most recent call last):\n",
      "  File \"C:\\Users\\liuke\\AppData\\Local\\Temp\\ipykernel_38964\\1486092911.py\", line 45, in <module>\n",
      "    cropped = cv2.copyMakeBorder(cropped, 0, 0, 0, w_pad, cv2.BORDER_CONSTANT, None, 0)\n",
      "              ^^^^^^^^^^^^^^^^^^^^^^^^^^^^^^^^^^^^^^^^^^^^^^^^^^^^^^^^^^^^^^^^^^^^^^^^^\n",
      "cv2.error: OpenCV(4.8.1) D:\\a\\opencv-python\\opencv-python\\opencv\\modules\\core\\src\\copy.cpp:1026: error: (-215:Assertion failed) top >= 0 && bottom >= 0 && left >= 0 && right >= 0 && _src.dims() <= 2 in function 'cv::copyMakeBorder'\n",
      "\n"
     ]
    },
    {
     "name": "stdout",
     "output_type": "stream",
     "text": [
      "692\n",
      "693\n"
     ]
    },
    {
     "name": "stderr",
     "output_type": "stream",
     "text": [
      "Traceback (most recent call last):\n",
      "  File \"C:\\Users\\liuke\\AppData\\Local\\Temp\\ipykernel_38964\\1486092911.py\", line 45, in <module>\n",
      "    cropped = cv2.copyMakeBorder(cropped, 0, 0, 0, w_pad, cv2.BORDER_CONSTANT, None, 0)\n",
      "              ^^^^^^^^^^^^^^^^^^^^^^^^^^^^^^^^^^^^^^^^^^^^^^^^^^^^^^^^^^^^^^^^^^^^^^^^^\n",
      "cv2.error: OpenCV(4.8.1) D:\\a\\opencv-python\\opencv-python\\opencv\\modules\\core\\src\\copy.cpp:1026: error: (-215:Assertion failed) top >= 0 && bottom >= 0 && left >= 0 && right >= 0 && _src.dims() <= 2 in function 'cv::copyMakeBorder'\n",
      "\n"
     ]
    },
    {
     "name": "stdout",
     "output_type": "stream",
     "text": [
      "694\n"
     ]
    },
    {
     "name": "stderr",
     "output_type": "stream",
     "text": [
      "Traceback (most recent call last):\n",
      "  File \"C:\\Users\\liuke\\AppData\\Local\\Temp\\ipykernel_38964\\1486092911.py\", line 34, in <module>\n",
      "    cropped = cropRectangle(crop_coord, image)\n",
      "              ^^^^^^^^^^^^^^^^^^^^^^^^^^^^^^^^\n",
      "  File \"C:\\Users\\liuke\\AppData\\Local\\Temp\\ipykernel_38964\\2776285124.py\", line 14, in cropRectangle\n",
      "    final = cv2.cvtColor(final, cv2.COLOR_BGR2GRAY)#grayscaling\n",
      "            ^^^^^^^^^^^^^^^^^^^^^^^^^^^^^^^^^^^^^^^\n",
      "cv2.error: OpenCV(4.8.1) D:\\a\\opencv-python\\opencv-python\\opencv\\modules\\imgproc\\src\\color.cpp:182: error: (-215:Assertion failed) !_src.empty() in function 'cv::cvtColor'\n",
      "\n"
     ]
    },
    {
     "name": "stdout",
     "output_type": "stream",
     "text": [
      "695\n",
      "696\n"
     ]
    },
    {
     "name": "stderr",
     "output_type": "stream",
     "text": [
      "Traceback (most recent call last):\n",
      "  File \"C:\\Users\\liuke\\AppData\\Local\\Temp\\ipykernel_38964\\1486092911.py\", line 45, in <module>\n",
      "    cropped = cv2.copyMakeBorder(cropped, 0, 0, 0, w_pad, cv2.BORDER_CONSTANT, None, 0)\n",
      "              ^^^^^^^^^^^^^^^^^^^^^^^^^^^^^^^^^^^^^^^^^^^^^^^^^^^^^^^^^^^^^^^^^^^^^^^^^\n",
      "cv2.error: OpenCV(4.8.1) D:\\a\\opencv-python\\opencv-python\\opencv\\modules\\core\\src\\copy.cpp:1026: error: (-215:Assertion failed) top >= 0 && bottom >= 0 && left >= 0 && right >= 0 && _src.dims() <= 2 in function 'cv::copyMakeBorder'\n",
      "\n"
     ]
    },
    {
     "name": "stdout",
     "output_type": "stream",
     "text": [
      "697\n",
      "698\n",
      "699\n"
     ]
    },
    {
     "name": "stderr",
     "output_type": "stream",
     "text": [
      "Traceback (most recent call last):\n",
      "  File \"C:\\Users\\liuke\\AppData\\Local\\Temp\\ipykernel_38964\\1486092911.py\", line 45, in <module>\n",
      "    cropped = cv2.copyMakeBorder(cropped, 0, 0, 0, w_pad, cv2.BORDER_CONSTANT, None, 0)\n",
      "              ^^^^^^^^^^^^^^^^^^^^^^^^^^^^^^^^^^^^^^^^^^^^^^^^^^^^^^^^^^^^^^^^^^^^^^^^^\n",
      "cv2.error: OpenCV(4.8.1) D:\\a\\opencv-python\\opencv-python\\opencv\\modules\\core\\src\\copy.cpp:1026: error: (-215:Assertion failed) top >= 0 && bottom >= 0 && left >= 0 && right >= 0 && _src.dims() <= 2 in function 'cv::copyMakeBorder'\n",
      "\n"
     ]
    },
    {
     "name": "stdout",
     "output_type": "stream",
     "text": [
      "700\n"
     ]
    },
    {
     "name": "stderr",
     "output_type": "stream",
     "text": [
      "Traceback (most recent call last):\n",
      "  File \"C:\\Users\\liuke\\AppData\\Local\\Temp\\ipykernel_38964\\1486092911.py\", line 45, in <module>\n",
      "    cropped = cv2.copyMakeBorder(cropped, 0, 0, 0, w_pad, cv2.BORDER_CONSTANT, None, 0)\n",
      "              ^^^^^^^^^^^^^^^^^^^^^^^^^^^^^^^^^^^^^^^^^^^^^^^^^^^^^^^^^^^^^^^^^^^^^^^^^\n",
      "cv2.error: OpenCV(4.8.1) D:\\a\\opencv-python\\opencv-python\\opencv\\modules\\core\\src\\copy.cpp:1026: error: (-215:Assertion failed) top >= 0 && bottom >= 0 && left >= 0 && right >= 0 && _src.dims() <= 2 in function 'cv::copyMakeBorder'\n",
      "\n"
     ]
    },
    {
     "name": "stdout",
     "output_type": "stream",
     "text": [
      "701\n",
      "702\n",
      "703\n",
      "704\n",
      "705\n"
     ]
    },
    {
     "name": "stderr",
     "output_type": "stream",
     "text": [
      "Traceback (most recent call last):\n",
      "  File \"C:\\Users\\liuke\\AppData\\Local\\Temp\\ipykernel_38964\\1486092911.py\", line 45, in <module>\n",
      "    cropped = cv2.copyMakeBorder(cropped, 0, 0, 0, w_pad, cv2.BORDER_CONSTANT, None, 0)\n",
      "              ^^^^^^^^^^^^^^^^^^^^^^^^^^^^^^^^^^^^^^^^^^^^^^^^^^^^^^^^^^^^^^^^^^^^^^^^^\n",
      "cv2.error: OpenCV(4.8.1) D:\\a\\opencv-python\\opencv-python\\opencv\\modules\\core\\src\\copy.cpp:1026: error: (-215:Assertion failed) top >= 0 && bottom >= 0 && left >= 0 && right >= 0 && _src.dims() <= 2 in function 'cv::copyMakeBorder'\n",
      "\n"
     ]
    },
    {
     "name": "stdout",
     "output_type": "stream",
     "text": [
      "706\n"
     ]
    },
    {
     "name": "stderr",
     "output_type": "stream",
     "text": [
      "Traceback (most recent call last):\n",
      "  File \"C:\\Users\\liuke\\AppData\\Local\\Temp\\ipykernel_38964\\1486092911.py\", line 34, in <module>\n",
      "    cropped = cropRectangle(crop_coord, image)\n",
      "              ^^^^^^^^^^^^^^^^^^^^^^^^^^^^^^^^\n",
      "  File \"C:\\Users\\liuke\\AppData\\Local\\Temp\\ipykernel_38964\\2776285124.py\", line 14, in cropRectangle\n",
      "    final = cv2.cvtColor(final, cv2.COLOR_BGR2GRAY)#grayscaling\n",
      "            ^^^^^^^^^^^^^^^^^^^^^^^^^^^^^^^^^^^^^^^\n",
      "cv2.error: OpenCV(4.8.1) D:\\a\\opencv-python\\opencv-python\\opencv\\modules\\imgproc\\src\\color.cpp:182: error: (-215:Assertion failed) !_src.empty() in function 'cv::cvtColor'\n",
      "\n",
      "Traceback (most recent call last):\n",
      "  File \"C:\\Users\\liuke\\AppData\\Local\\Temp\\ipykernel_38964\\1486092911.py\", line 34, in <module>\n",
      "    cropped = cropRectangle(crop_coord, image)\n",
      "              ^^^^^^^^^^^^^^^^^^^^^^^^^^^^^^^^\n",
      "  File \"C:\\Users\\liuke\\AppData\\Local\\Temp\\ipykernel_38964\\2776285124.py\", line 5, in cropRectangle\n",
      "    rotated = ndimage.rotate(image, angle * 180 / math.pi)\n",
      "              ^^^^^^^^^^^^^^^^^^^^^^^^^^^^^^^^^^^^^^^^^^^^\n",
      "  File \"C:\\ProgramData\\anaconda3\\Lib\\site-packages\\scipy\\ndimage\\_interpolation.py\", line 939, in rotate\n",
      "    output = _ni_support._get_output(output, input_arr, shape=output_shape,\n",
      "             ^^^^^^^^^^^^^^^^^^^^^^^^^^^^^^^^^^^^^^^^^^^^^^^^^^^^^^^^^^^^^^\n",
      "  File \"C:\\ProgramData\\anaconda3\\Lib\\site-packages\\scipy\\ndimage\\_ni_support.py\", line 79, in _get_output\n",
      "    output = numpy.zeros(shape, dtype=input.dtype.name)\n",
      "             ^^^^^^^^^^^^^^^^^^^^^^^^^^^^^^^^^^^^^^^^^^\n",
      "ValueError: negative dimensions are not allowed\n"
     ]
    },
    {
     "name": "stdout",
     "output_type": "stream",
     "text": [
      "707\n",
      "708\n"
     ]
    },
    {
     "name": "stderr",
     "output_type": "stream",
     "text": [
      "Traceback (most recent call last):\n",
      "  File \"C:\\Users\\liuke\\AppData\\Local\\Temp\\ipykernel_38964\\1486092911.py\", line 45, in <module>\n",
      "    cropped = cv2.copyMakeBorder(cropped, 0, 0, 0, w_pad, cv2.BORDER_CONSTANT, None, 0)\n",
      "              ^^^^^^^^^^^^^^^^^^^^^^^^^^^^^^^^^^^^^^^^^^^^^^^^^^^^^^^^^^^^^^^^^^^^^^^^^\n",
      "cv2.error: OpenCV(4.8.1) D:\\a\\opencv-python\\opencv-python\\opencv\\modules\\core\\src\\copy.cpp:1026: error: (-215:Assertion failed) top >= 0 && bottom >= 0 && left >= 0 && right >= 0 && _src.dims() <= 2 in function 'cv::copyMakeBorder'\n",
      "\n"
     ]
    },
    {
     "name": "stdout",
     "output_type": "stream",
     "text": [
      "709\n",
      "710\n",
      "711\n"
     ]
    },
    {
     "name": "stderr",
     "output_type": "stream",
     "text": [
      "Traceback (most recent call last):\n",
      "  File \"C:\\Users\\liuke\\AppData\\Local\\Temp\\ipykernel_38964\\1486092911.py\", line 45, in <module>\n",
      "    cropped = cv2.copyMakeBorder(cropped, 0, 0, 0, w_pad, cv2.BORDER_CONSTANT, None, 0)\n",
      "              ^^^^^^^^^^^^^^^^^^^^^^^^^^^^^^^^^^^^^^^^^^^^^^^^^^^^^^^^^^^^^^^^^^^^^^^^^\n",
      "cv2.error: OpenCV(4.8.1) D:\\a\\opencv-python\\opencv-python\\opencv\\modules\\core\\src\\copy.cpp:1026: error: (-215:Assertion failed) top >= 0 && bottom >= 0 && left >= 0 && right >= 0 && _src.dims() <= 2 in function 'cv::copyMakeBorder'\n",
      "\n"
     ]
    },
    {
     "name": "stdout",
     "output_type": "stream",
     "text": [
      "712\n"
     ]
    },
    {
     "name": "stderr",
     "output_type": "stream",
     "text": [
      "Traceback (most recent call last):\n",
      "  File \"C:\\Users\\liuke\\AppData\\Local\\Temp\\ipykernel_38964\\1486092911.py\", line 45, in <module>\n",
      "    cropped = cv2.copyMakeBorder(cropped, 0, 0, 0, w_pad, cv2.BORDER_CONSTANT, None, 0)\n",
      "              ^^^^^^^^^^^^^^^^^^^^^^^^^^^^^^^^^^^^^^^^^^^^^^^^^^^^^^^^^^^^^^^^^^^^^^^^^\n",
      "cv2.error: OpenCV(4.8.1) D:\\a\\opencv-python\\opencv-python\\opencv\\modules\\core\\src\\copy.cpp:1026: error: (-215:Assertion failed) top >= 0 && bottom >= 0 && left >= 0 && right >= 0 && _src.dims() <= 2 in function 'cv::copyMakeBorder'\n",
      "\n"
     ]
    },
    {
     "name": "stdout",
     "output_type": "stream",
     "text": [
      "713\n"
     ]
    },
    {
     "name": "stderr",
     "output_type": "stream",
     "text": [
      "Traceback (most recent call last):\n",
      "  File \"C:\\Users\\liuke\\AppData\\Local\\Temp\\ipykernel_38964\\1486092911.py\", line 34, in <module>\n",
      "    cropped = cropRectangle(crop_coord, image)\n",
      "              ^^^^^^^^^^^^^^^^^^^^^^^^^^^^^^^^\n",
      "  File \"C:\\Users\\liuke\\AppData\\Local\\Temp\\ipykernel_38964\\2776285124.py\", line 5, in cropRectangle\n",
      "    rotated = ndimage.rotate(image, angle * 180 / math.pi)\n",
      "              ^^^^^^^^^^^^^^^^^^^^^^^^^^^^^^^^^^^^^^^^^^^^\n",
      "  File \"C:\\ProgramData\\anaconda3\\Lib\\site-packages\\scipy\\ndimage\\_interpolation.py\", line 939, in rotate\n",
      "    output = _ni_support._get_output(output, input_arr, shape=output_shape,\n",
      "             ^^^^^^^^^^^^^^^^^^^^^^^^^^^^^^^^^^^^^^^^^^^^^^^^^^^^^^^^^^^^^^\n",
      "  File \"C:\\ProgramData\\anaconda3\\Lib\\site-packages\\scipy\\ndimage\\_ni_support.py\", line 79, in _get_output\n",
      "    output = numpy.zeros(shape, dtype=input.dtype.name)\n",
      "             ^^^^^^^^^^^^^^^^^^^^^^^^^^^^^^^^^^^^^^^^^^\n",
      "ValueError: negative dimensions are not allowed\n"
     ]
    },
    {
     "name": "stdout",
     "output_type": "stream",
     "text": [
      "714\n"
     ]
    },
    {
     "name": "stderr",
     "output_type": "stream",
     "text": [
      "Traceback (most recent call last):\n",
      "  File \"C:\\Users\\liuke\\AppData\\Local\\Temp\\ipykernel_38964\\1486092911.py\", line 45, in <module>\n",
      "    cropped = cv2.copyMakeBorder(cropped, 0, 0, 0, w_pad, cv2.BORDER_CONSTANT, None, 0)\n",
      "              ^^^^^^^^^^^^^^^^^^^^^^^^^^^^^^^^^^^^^^^^^^^^^^^^^^^^^^^^^^^^^^^^^^^^^^^^^\n",
      "cv2.error: OpenCV(4.8.1) D:\\a\\opencv-python\\opencv-python\\opencv\\modules\\core\\src\\copy.cpp:1026: error: (-215:Assertion failed) top >= 0 && bottom >= 0 && left >= 0 && right >= 0 && _src.dims() <= 2 in function 'cv::copyMakeBorder'\n",
      "\n"
     ]
    },
    {
     "name": "stdout",
     "output_type": "stream",
     "text": [
      "715\n"
     ]
    },
    {
     "name": "stderr",
     "output_type": "stream",
     "text": [
      "Traceback (most recent call last):\n",
      "  File \"C:\\Users\\liuke\\AppData\\Local\\Temp\\ipykernel_38964\\1486092911.py\", line 45, in <module>\n",
      "    cropped = cv2.copyMakeBorder(cropped, 0, 0, 0, w_pad, cv2.BORDER_CONSTANT, None, 0)\n",
      "              ^^^^^^^^^^^^^^^^^^^^^^^^^^^^^^^^^^^^^^^^^^^^^^^^^^^^^^^^^^^^^^^^^^^^^^^^^\n",
      "cv2.error: OpenCV(4.8.1) D:\\a\\opencv-python\\opencv-python\\opencv\\modules\\core\\src\\copy.cpp:1026: error: (-215:Assertion failed) top >= 0 && bottom >= 0 && left >= 0 && right >= 0 && _src.dims() <= 2 in function 'cv::copyMakeBorder'\n",
      "\n"
     ]
    },
    {
     "name": "stdout",
     "output_type": "stream",
     "text": [
      "716\n"
     ]
    },
    {
     "name": "stderr",
     "output_type": "stream",
     "text": [
      "Traceback (most recent call last):\n",
      "  File \"C:\\Users\\liuke\\AppData\\Local\\Temp\\ipykernel_38964\\1486092911.py\", line 45, in <module>\n",
      "    cropped = cv2.copyMakeBorder(cropped, 0, 0, 0, w_pad, cv2.BORDER_CONSTANT, None, 0)\n",
      "              ^^^^^^^^^^^^^^^^^^^^^^^^^^^^^^^^^^^^^^^^^^^^^^^^^^^^^^^^^^^^^^^^^^^^^^^^^\n",
      "cv2.error: OpenCV(4.8.1) D:\\a\\opencv-python\\opencv-python\\opencv\\modules\\core\\src\\copy.cpp:1026: error: (-215:Assertion failed) top >= 0 && bottom >= 0 && left >= 0 && right >= 0 && _src.dims() <= 2 in function 'cv::copyMakeBorder'\n",
      "\n"
     ]
    },
    {
     "name": "stdout",
     "output_type": "stream",
     "text": [
      "717\n"
     ]
    },
    {
     "name": "stderr",
     "output_type": "stream",
     "text": [
      "Traceback (most recent call last):\n",
      "  File \"C:\\Users\\liuke\\AppData\\Local\\Temp\\ipykernel_38964\\1486092911.py\", line 45, in <module>\n",
      "    cropped = cv2.copyMakeBorder(cropped, 0, 0, 0, w_pad, cv2.BORDER_CONSTANT, None, 0)\n",
      "              ^^^^^^^^^^^^^^^^^^^^^^^^^^^^^^^^^^^^^^^^^^^^^^^^^^^^^^^^^^^^^^^^^^^^^^^^^\n",
      "cv2.error: OpenCV(4.8.1) D:\\a\\opencv-python\\opencv-python\\opencv\\modules\\core\\src\\copy.cpp:1026: error: (-215:Assertion failed) top >= 0 && bottom >= 0 && left >= 0 && right >= 0 && _src.dims() <= 2 in function 'cv::copyMakeBorder'\n",
      "\n"
     ]
    },
    {
     "name": "stdout",
     "output_type": "stream",
     "text": [
      "718\n"
     ]
    },
    {
     "name": "stderr",
     "output_type": "stream",
     "text": [
      "Traceback (most recent call last):\n",
      "  File \"C:\\Users\\liuke\\AppData\\Local\\Temp\\ipykernel_38964\\1486092911.py\", line 45, in <module>\n",
      "    cropped = cv2.copyMakeBorder(cropped, 0, 0, 0, w_pad, cv2.BORDER_CONSTANT, None, 0)\n",
      "              ^^^^^^^^^^^^^^^^^^^^^^^^^^^^^^^^^^^^^^^^^^^^^^^^^^^^^^^^^^^^^^^^^^^^^^^^^\n",
      "cv2.error: OpenCV(4.8.1) D:\\a\\opencv-python\\opencv-python\\opencv\\modules\\core\\src\\copy.cpp:1026: error: (-215:Assertion failed) top >= 0 && bottom >= 0 && left >= 0 && right >= 0 && _src.dims() <= 2 in function 'cv::copyMakeBorder'\n",
      "\n"
     ]
    },
    {
     "name": "stdout",
     "output_type": "stream",
     "text": [
      "719\n",
      "720\n",
      "721\n",
      "722\n"
     ]
    },
    {
     "name": "stderr",
     "output_type": "stream",
     "text": [
      "Traceback (most recent call last):\n",
      "  File \"C:\\Users\\liuke\\AppData\\Local\\Temp\\ipykernel_38964\\1486092911.py\", line 34, in <module>\n",
      "    cropped = cropRectangle(crop_coord, image)\n",
      "              ^^^^^^^^^^^^^^^^^^^^^^^^^^^^^^^^\n",
      "  File \"C:\\Users\\liuke\\AppData\\Local\\Temp\\ipykernel_38964\\2776285124.py\", line 4, in cropRectangle\n",
      "    angle = -math.tan((points[3] - points[1])/(points[2] - points[0]))/2 - math.tan((points[7] - points[5])/(points[6] - points[4]))/2\n",
      "                                                                           ^^^^^^^^^^^^^^^^^^^^^^^^^^^^^^^^^^^^^^^^^^^^^^^^^^^^^^^^^\n",
      "ValueError: math domain error\n",
      "Traceback (most recent call last):\n",
      "  File \"C:\\Users\\liuke\\AppData\\Local\\Temp\\ipykernel_38964\\1486092911.py\", line 45, in <module>\n",
      "    cropped = cv2.copyMakeBorder(cropped, 0, 0, 0, w_pad, cv2.BORDER_CONSTANT, None, 0)\n",
      "              ^^^^^^^^^^^^^^^^^^^^^^^^^^^^^^^^^^^^^^^^^^^^^^^^^^^^^^^^^^^^^^^^^^^^^^^^^\n",
      "cv2.error: OpenCV(4.8.1) D:\\a\\opencv-python\\opencv-python\\opencv\\modules\\core\\src\\copy.cpp:1026: error: (-215:Assertion failed) top >= 0 && bottom >= 0 && left >= 0 && right >= 0 && _src.dims() <= 2 in function 'cv::copyMakeBorder'\n",
      "\n"
     ]
    },
    {
     "name": "stdout",
     "output_type": "stream",
     "text": [
      "723\n"
     ]
    },
    {
     "name": "stderr",
     "output_type": "stream",
     "text": [
      "Traceback (most recent call last):\n",
      "  File \"C:\\Users\\liuke\\AppData\\Local\\Temp\\ipykernel_38964\\1486092911.py\", line 34, in <module>\n",
      "    cropped = cropRectangle(crop_coord, image)\n",
      "              ^^^^^^^^^^^^^^^^^^^^^^^^^^^^^^^^\n",
      "  File \"C:\\Users\\liuke\\AppData\\Local\\Temp\\ipykernel_38964\\2776285124.py\", line 14, in cropRectangle\n",
      "    final = cv2.cvtColor(final, cv2.COLOR_BGR2GRAY)#grayscaling\n",
      "            ^^^^^^^^^^^^^^^^^^^^^^^^^^^^^^^^^^^^^^^\n",
      "cv2.error: OpenCV(4.8.1) D:\\a\\opencv-python\\opencv-python\\opencv\\modules\\imgproc\\src\\color.cpp:182: error: (-215:Assertion failed) !_src.empty() in function 'cv::cvtColor'\n",
      "\n"
     ]
    },
    {
     "name": "stdout",
     "output_type": "stream",
     "text": [
      "724\n"
     ]
    },
    {
     "name": "stderr",
     "output_type": "stream",
     "text": [
      "Traceback (most recent call last):\n",
      "  File \"C:\\Users\\liuke\\AppData\\Local\\Temp\\ipykernel_38964\\1486092911.py\", line 45, in <module>\n",
      "    cropped = cv2.copyMakeBorder(cropped, 0, 0, 0, w_pad, cv2.BORDER_CONSTANT, None, 0)\n",
      "              ^^^^^^^^^^^^^^^^^^^^^^^^^^^^^^^^^^^^^^^^^^^^^^^^^^^^^^^^^^^^^^^^^^^^^^^^^\n",
      "cv2.error: OpenCV(4.8.1) D:\\a\\opencv-python\\opencv-python\\opencv\\modules\\core\\src\\copy.cpp:1026: error: (-215:Assertion failed) top >= 0 && bottom >= 0 && left >= 0 && right >= 0 && _src.dims() <= 2 in function 'cv::copyMakeBorder'\n",
      "\n"
     ]
    },
    {
     "name": "stdout",
     "output_type": "stream",
     "text": [
      "725\n"
     ]
    },
    {
     "name": "stderr",
     "output_type": "stream",
     "text": [
      "Traceback (most recent call last):\n",
      "  File \"C:\\Users\\liuke\\AppData\\Local\\Temp\\ipykernel_38964\\1486092911.py\", line 45, in <module>\n",
      "    cropped = cv2.copyMakeBorder(cropped, 0, 0, 0, w_pad, cv2.BORDER_CONSTANT, None, 0)\n",
      "              ^^^^^^^^^^^^^^^^^^^^^^^^^^^^^^^^^^^^^^^^^^^^^^^^^^^^^^^^^^^^^^^^^^^^^^^^^\n",
      "cv2.error: OpenCV(4.8.1) D:\\a\\opencv-python\\opencv-python\\opencv\\modules\\core\\src\\copy.cpp:1026: error: (-215:Assertion failed) top >= 0 && bottom >= 0 && left >= 0 && right >= 0 && _src.dims() <= 2 in function 'cv::copyMakeBorder'\n",
      "\n"
     ]
    },
    {
     "name": "stdout",
     "output_type": "stream",
     "text": [
      "726\n",
      "727\n",
      "728\n"
     ]
    },
    {
     "name": "stderr",
     "output_type": "stream",
     "text": [
      "Traceback (most recent call last):\n",
      "  File \"C:\\Users\\liuke\\AppData\\Local\\Temp\\ipykernel_38964\\1486092911.py\", line 45, in <module>\n",
      "    cropped = cv2.copyMakeBorder(cropped, 0, 0, 0, w_pad, cv2.BORDER_CONSTANT, None, 0)\n",
      "              ^^^^^^^^^^^^^^^^^^^^^^^^^^^^^^^^^^^^^^^^^^^^^^^^^^^^^^^^^^^^^^^^^^^^^^^^^\n",
      "cv2.error: OpenCV(4.8.1) D:\\a\\opencv-python\\opencv-python\\opencv\\modules\\core\\src\\copy.cpp:1026: error: (-215:Assertion failed) top >= 0 && bottom >= 0 && left >= 0 && right >= 0 && _src.dims() <= 2 in function 'cv::copyMakeBorder'\n",
      "\n"
     ]
    },
    {
     "name": "stdout",
     "output_type": "stream",
     "text": [
      "729\n",
      "730\n",
      "731\n",
      "732\n",
      "733\n",
      "734\n"
     ]
    },
    {
     "name": "stderr",
     "output_type": "stream",
     "text": [
      "Traceback (most recent call last):\n",
      "  File \"C:\\Users\\liuke\\AppData\\Local\\Temp\\ipykernel_38964\\1486092911.py\", line 45, in <module>\n",
      "    cropped = cv2.copyMakeBorder(cropped, 0, 0, 0, w_pad, cv2.BORDER_CONSTANT, None, 0)\n",
      "              ^^^^^^^^^^^^^^^^^^^^^^^^^^^^^^^^^^^^^^^^^^^^^^^^^^^^^^^^^^^^^^^^^^^^^^^^^\n",
      "cv2.error: OpenCV(4.8.1) D:\\a\\opencv-python\\opencv-python\\opencv\\modules\\core\\src\\copy.cpp:1026: error: (-215:Assertion failed) top >= 0 && bottom >= 0 && left >= 0 && right >= 0 && _src.dims() <= 2 in function 'cv::copyMakeBorder'\n",
      "\n"
     ]
    },
    {
     "name": "stdout",
     "output_type": "stream",
     "text": [
      "735\n",
      "736\n",
      "737\n",
      "738\n"
     ]
    },
    {
     "name": "stderr",
     "output_type": "stream",
     "text": [
      "Traceback (most recent call last):\n",
      "  File \"C:\\Users\\liuke\\AppData\\Local\\Temp\\ipykernel_38964\\1486092911.py\", line 34, in <module>\n",
      "    cropped = cropRectangle(crop_coord, image)\n",
      "              ^^^^^^^^^^^^^^^^^^^^^^^^^^^^^^^^\n",
      "  File \"C:\\Users\\liuke\\AppData\\Local\\Temp\\ipykernel_38964\\2776285124.py\", line 14, in cropRectangle\n",
      "    final = cv2.cvtColor(final, cv2.COLOR_BGR2GRAY)#grayscaling\n",
      "            ^^^^^^^^^^^^^^^^^^^^^^^^^^^^^^^^^^^^^^^\n",
      "cv2.error: OpenCV(4.8.1) D:\\a\\opencv-python\\opencv-python\\opencv\\modules\\imgproc\\src\\color.cpp:182: error: (-215:Assertion failed) !_src.empty() in function 'cv::cvtColor'\n",
      "\n"
     ]
    },
    {
     "name": "stdout",
     "output_type": "stream",
     "text": [
      "739\n",
      "740\n",
      "741\n"
     ]
    },
    {
     "name": "stderr",
     "output_type": "stream",
     "text": [
      "Traceback (most recent call last):\n",
      "  File \"C:\\Users\\liuke\\AppData\\Local\\Temp\\ipykernel_38964\\1486092911.py\", line 45, in <module>\n",
      "    cropped = cv2.copyMakeBorder(cropped, 0, 0, 0, w_pad, cv2.BORDER_CONSTANT, None, 0)\n",
      "              ^^^^^^^^^^^^^^^^^^^^^^^^^^^^^^^^^^^^^^^^^^^^^^^^^^^^^^^^^^^^^^^^^^^^^^^^^\n",
      "cv2.error: OpenCV(4.8.1) D:\\a\\opencv-python\\opencv-python\\opencv\\modules\\core\\src\\copy.cpp:1026: error: (-215:Assertion failed) top >= 0 && bottom >= 0 && left >= 0 && right >= 0 && _src.dims() <= 2 in function 'cv::copyMakeBorder'\n",
      "\n"
     ]
    },
    {
     "name": "stdout",
     "output_type": "stream",
     "text": [
      "742\n"
     ]
    },
    {
     "name": "stderr",
     "output_type": "stream",
     "text": [
      "Traceback (most recent call last):\n",
      "  File \"C:\\Users\\liuke\\AppData\\Local\\Temp\\ipykernel_38964\\1486092911.py\", line 45, in <module>\n",
      "    cropped = cv2.copyMakeBorder(cropped, 0, 0, 0, w_pad, cv2.BORDER_CONSTANT, None, 0)\n",
      "              ^^^^^^^^^^^^^^^^^^^^^^^^^^^^^^^^^^^^^^^^^^^^^^^^^^^^^^^^^^^^^^^^^^^^^^^^^\n",
      "cv2.error: OpenCV(4.8.1) D:\\a\\opencv-python\\opencv-python\\opencv\\modules\\core\\src\\copy.cpp:1026: error: (-215:Assertion failed) top >= 0 && bottom >= 0 && left >= 0 && right >= 0 && _src.dims() <= 2 in function 'cv::copyMakeBorder'\n",
      "\n"
     ]
    },
    {
     "name": "stdout",
     "output_type": "stream",
     "text": [
      "743\n",
      "744\n",
      "745\n"
     ]
    },
    {
     "name": "stderr",
     "output_type": "stream",
     "text": [
      "Traceback (most recent call last):\n",
      "  File \"C:\\Users\\liuke\\AppData\\Local\\Temp\\ipykernel_38964\\1486092911.py\", line 45, in <module>\n",
      "    cropped = cv2.copyMakeBorder(cropped, 0, 0, 0, w_pad, cv2.BORDER_CONSTANT, None, 0)\n",
      "              ^^^^^^^^^^^^^^^^^^^^^^^^^^^^^^^^^^^^^^^^^^^^^^^^^^^^^^^^^^^^^^^^^^^^^^^^^\n",
      "cv2.error: OpenCV(4.8.1) D:\\a\\opencv-python\\opencv-python\\opencv\\modules\\core\\src\\copy.cpp:1026: error: (-215:Assertion failed) top >= 0 && bottom >= 0 && left >= 0 && right >= 0 && _src.dims() <= 2 in function 'cv::copyMakeBorder'\n",
      "\n"
     ]
    },
    {
     "name": "stdout",
     "output_type": "stream",
     "text": [
      "746\n"
     ]
    },
    {
     "name": "stderr",
     "output_type": "stream",
     "text": [
      "Traceback (most recent call last):\n",
      "  File \"C:\\Users\\liuke\\AppData\\Local\\Temp\\ipykernel_38964\\1486092911.py\", line 34, in <module>\n",
      "    cropped = cropRectangle(crop_coord, image)\n",
      "              ^^^^^^^^^^^^^^^^^^^^^^^^^^^^^^^^\n",
      "  File \"C:\\Users\\liuke\\AppData\\Local\\Temp\\ipykernel_38964\\2776285124.py\", line 4, in cropRectangle\n",
      "    angle = -math.tan((points[3] - points[1])/(points[2] - points[0]))/2 - math.tan((points[7] - points[5])/(points[6] - points[4]))/2\n",
      "             ^^^^^^^^^^^^^^^^^^^^^^^^^^^^^^^^^^^^^^^^^^^^^^^^^^^^^^^^^\n",
      "ValueError: math domain error\n"
     ]
    },
    {
     "name": "stdout",
     "output_type": "stream",
     "text": [
      "747\n",
      "748\n",
      "749\n"
     ]
    },
    {
     "name": "stderr",
     "output_type": "stream",
     "text": [
      "Traceback (most recent call last):\n",
      "  File \"C:\\Users\\liuke\\AppData\\Local\\Temp\\ipykernel_38964\\1486092911.py\", line 34, in <module>\n",
      "    cropped = cropRectangle(crop_coord, image)\n",
      "              ^^^^^^^^^^^^^^^^^^^^^^^^^^^^^^^^\n",
      "  File \"C:\\Users\\liuke\\AppData\\Local\\Temp\\ipykernel_38964\\2776285124.py\", line 14, in cropRectangle\n",
      "    final = cv2.cvtColor(final, cv2.COLOR_BGR2GRAY)#grayscaling\n",
      "            ^^^^^^^^^^^^^^^^^^^^^^^^^^^^^^^^^^^^^^^\n",
      "cv2.error: OpenCV(4.8.1) D:\\a\\opencv-python\\opencv-python\\opencv\\modules\\imgproc\\src\\color.cpp:182: error: (-215:Assertion failed) !_src.empty() in function 'cv::cvtColor'\n",
      "\n"
     ]
    },
    {
     "name": "stdout",
     "output_type": "stream",
     "text": [
      "750\n"
     ]
    },
    {
     "ename": "KeyboardInterrupt",
     "evalue": "",
     "output_type": "error",
     "traceback": [
      "\u001b[1;31m---------------------------------------------------------------------------\u001b[0m",
      "\u001b[1;31mKeyboardInterrupt\u001b[0m                         Traceback (most recent call last)",
      "Cell \u001b[1;32mIn[21], line 34\u001b[0m\n\u001b[0;32m     31\u001b[0m     \u001b[38;5;28;01mwhile\u001b[39;00m id_count \u001b[38;5;241m<\u001b[39m set_len:\n\u001b[0;32m     32\u001b[0m \u001b[38;5;66;03m#for x in words_temp_points:\u001b[39;00m\n\u001b[0;32m     33\u001b[0m         crop_coord \u001b[38;5;241m=\u001b[39m np\u001b[38;5;241m.\u001b[39marray(literal_eval(words_temp_points[id_count]))\u001b[38;5;66;03m#to crop out each individual word\u001b[39;00m\n\u001b[1;32m---> 34\u001b[0m         cropped \u001b[38;5;241m=\u001b[39m cropRectangle(crop_coord, image)\n\u001b[0;32m     35\u001b[0m   \u001b[38;5;66;03m# convert each image of shape (32, 128, 1) without streching/distorting too much by scaling and padding\u001b[39;00m\n\u001b[0;32m     36\u001b[0m         h,w \u001b[38;5;241m=\u001b[39m cropped\u001b[38;5;241m.\u001b[39mshape\n",
      "Cell \u001b[1;32mIn[5], line 5\u001b[0m, in \u001b[0;36mcropRectangle\u001b[1;34m(points, image)\u001b[0m\n\u001b[0;32m      3\u001b[0m \u001b[38;5;28;01mdef\u001b[39;00m \u001b[38;5;21mcropRectangle\u001b[39m(points, image):\n\u001b[0;32m      4\u001b[0m     angle \u001b[38;5;241m=\u001b[39m \u001b[38;5;241m-\u001b[39mmath\u001b[38;5;241m.\u001b[39mtan((points[\u001b[38;5;241m3\u001b[39m] \u001b[38;5;241m-\u001b[39m points[\u001b[38;5;241m1\u001b[39m])\u001b[38;5;241m/\u001b[39m(points[\u001b[38;5;241m2\u001b[39m] \u001b[38;5;241m-\u001b[39m points[\u001b[38;5;241m0\u001b[39m]))\u001b[38;5;241m/\u001b[39m\u001b[38;5;241m2\u001b[39m \u001b[38;5;241m-\u001b[39m math\u001b[38;5;241m.\u001b[39mtan((points[\u001b[38;5;241m7\u001b[39m] \u001b[38;5;241m-\u001b[39m points[\u001b[38;5;241m5\u001b[39m])\u001b[38;5;241m/\u001b[39m(points[\u001b[38;5;241m6\u001b[39m] \u001b[38;5;241m-\u001b[39m points[\u001b[38;5;241m4\u001b[39m]))\u001b[38;5;241m/\u001b[39m\u001b[38;5;241m2\u001b[39m\n\u001b[1;32m----> 5\u001b[0m     rotated \u001b[38;5;241m=\u001b[39m ndimage\u001b[38;5;241m.\u001b[39mrotate(image, angle \u001b[38;5;241m*\u001b[39m \u001b[38;5;241m180\u001b[39m \u001b[38;5;241m/\u001b[39m math\u001b[38;5;241m.\u001b[39mpi)\n\u001b[0;32m      6\u001b[0m     point1x \u001b[38;5;241m=\u001b[39m (points[\u001b[38;5;241m0\u001b[39m] \u001b[38;5;241m-\u001b[39m image\u001b[38;5;241m.\u001b[39mshape[\u001b[38;5;241m0\u001b[39m]\u001b[38;5;241m/\u001b[39m\u001b[38;5;241m2\u001b[39m) \u001b[38;5;241m*\u001b[39m math\u001b[38;5;241m.\u001b[39mcos(angle) \u001b[38;5;241m-\u001b[39m (points[\u001b[38;5;241m1\u001b[39m] \u001b[38;5;241m-\u001b[39m image\u001b[38;5;241m.\u001b[39mshape[\u001b[38;5;241m1\u001b[39m]\u001b[38;5;241m/\u001b[39m\u001b[38;5;241m2\u001b[39m) \u001b[38;5;241m*\u001b[39m math\u001b[38;5;241m.\u001b[39msin(angle) \u001b[38;5;241m+\u001b[39m rotated\u001b[38;5;241m.\u001b[39mshape[\u001b[38;5;241m0\u001b[39m]\u001b[38;5;241m/\u001b[39m\u001b[38;5;241m2\u001b[39m\n\u001b[0;32m      7\u001b[0m     point1y \u001b[38;5;241m=\u001b[39m (points[\u001b[38;5;241m1\u001b[39m] \u001b[38;5;241m-\u001b[39m image\u001b[38;5;241m.\u001b[39mshape[\u001b[38;5;241m1\u001b[39m]\u001b[38;5;241m/\u001b[39m\u001b[38;5;241m2\u001b[39m) \u001b[38;5;241m*\u001b[39m math\u001b[38;5;241m.\u001b[39mcos(angle) \u001b[38;5;241m+\u001b[39m (points[\u001b[38;5;241m0\u001b[39m] \u001b[38;5;241m-\u001b[39m image\u001b[38;5;241m.\u001b[39mshape[\u001b[38;5;241m0\u001b[39m]\u001b[38;5;241m/\u001b[39m\u001b[38;5;241m2\u001b[39m) \u001b[38;5;241m*\u001b[39m math\u001b[38;5;241m.\u001b[39msin(angle) \u001b[38;5;241m+\u001b[39m rotated\u001b[38;5;241m.\u001b[39mshape[\u001b[38;5;241m1\u001b[39m]\u001b[38;5;241m/\u001b[39m\u001b[38;5;241m2\u001b[39m\n",
      "File \u001b[1;32mC:\\ProgramData\\anaconda3\\Lib\\site-packages\\scipy\\ndimage\\_interpolation.py:957\u001b[0m, in \u001b[0;36mrotate\u001b[1;34m(input, angle, axes, reshape, output, order, mode, cval, prefilter)\u001b[0m\n\u001b[0;32m    955\u001b[0m         ia \u001b[38;5;241m=\u001b[39m input_arr[coordinates]\n\u001b[0;32m    956\u001b[0m         oa \u001b[38;5;241m=\u001b[39m output[coordinates]\n\u001b[1;32m--> 957\u001b[0m         affine_transform(ia, rot_matrix, offset, out_plane_shape,\n\u001b[0;32m    958\u001b[0m                          oa, order, mode, cval, prefilter)\n\u001b[0;32m    960\u001b[0m \u001b[38;5;28;01mreturn\u001b[39;00m output\n",
      "File \u001b[1;32mC:\\ProgramData\\anaconda3\\Lib\\site-packages\\scipy\\ndimage\\_interpolation.py:614\u001b[0m, in \u001b[0;36maffine_transform\u001b[1;34m(input, matrix, offset, output_shape, output, order, mode, cval, prefilter)\u001b[0m\n\u001b[0;32m    611\u001b[0m     _nd_image\u001b[38;5;241m.\u001b[39mzoom_shift(filtered, matrix, offset\u001b[38;5;241m/\u001b[39mmatrix, output, order,\n\u001b[0;32m    612\u001b[0m                          mode, cval, npad, \u001b[38;5;28;01mFalse\u001b[39;00m)\n\u001b[0;32m    613\u001b[0m \u001b[38;5;28;01melse\u001b[39;00m:\n\u001b[1;32m--> 614\u001b[0m     _nd_image\u001b[38;5;241m.\u001b[39mgeometric_transform(filtered, \u001b[38;5;28;01mNone\u001b[39;00m, \u001b[38;5;28;01mNone\u001b[39;00m, matrix, offset,\n\u001b[0;32m    615\u001b[0m                                   output, order, mode, cval, npad, \u001b[38;5;28;01mNone\u001b[39;00m,\n\u001b[0;32m    616\u001b[0m                                   \u001b[38;5;28;01mNone\u001b[39;00m)\n\u001b[0;32m    617\u001b[0m \u001b[38;5;28;01mreturn\u001b[39;00m output\n",
      "\u001b[1;31mKeyboardInterrupt\u001b[0m: "
     ]
    }
   ],
   "source": [
    "dataset_path = 'train_images'\n",
    "pattern = re.compile(\"^[^\\w\\s]+$\")#strings that are just puncations\n",
    "words_in_img = None\n",
    "i = 560\n",
    "while i < 1000: \n",
    "    print(i)#if reaches error just skip image and continue next\n",
    "    try:\n",
    "    #if i in [128, 166, 406]:\n",
    "      #i+=1\n",
    "      #continue\n",
    "        image_id = img.iloc[i]['id']\n",
    "        image_name = image_id + '.jpg'\n",
    "        image_path = os.path.join(dataset_path, image_name)\n",
    "    #image = io.imread(image_path)\n",
    "        image = cv2.imread(image_path)\n",
    "        gray_ed = cv2.cvtColor(image, cv2.COLOR_BGR2GRAY)#grayscaling\n",
    "        norm_ed = (gray_ed - np.min(gray_ed)) / (np.max(gray_ed) - np.min(gray_ed))#normalizing\n",
    "\n",
    "        words_temp = annot[annot['image_id'] == image_id].copy()\n",
    "        words_temp = words_temp[words_temp['utf8_string'].str.match(pattern) == False].copy()#check and drop strings that are just punctuations\n",
    "        if words_temp.empty:#make sure after removing the df is not empty\n",
    "            i += 1\n",
    "            continue\n",
    "\n",
    "        words_temp_points = list(words_temp['points'])\n",
    "        words_temp_id = list(words_temp['id'])\n",
    "\n",
    "        id_count = 0\n",
    "        temp_img_list = []\n",
    "        set_len = len(words_temp_points)\n",
    "        while id_count < set_len:\n",
    "    #for x in words_temp_points:\n",
    "            crop_coord = np.array(literal_eval(words_temp_points[id_count]))#to crop out each individual word\n",
    "            cropped = cropRectangle(crop_coord, image)\n",
    "      # convert each image of shape (32, 128, 1) without streching/distorting too much by scaling and padding\n",
    "            h,w = cropped.shape\n",
    "            if w < 10 or h < 10:\n",
    "                id_count += 1\n",
    "                continue\n",
    "            cropped = cv2.resize(cropped, (int(w * 32 / h), 32), interpolation= cv2.INTER_LINEAR)\n",
    "            if w >= 128:\n",
    "                cropped = cv2.resize(cropped, (128, 32))\n",
    "            else:\n",
    "                w_pad = 128 - int(w * 32 / h)\n",
    "                cropped = cv2.copyMakeBorder(cropped, 0, 0, 0, w_pad, cv2.BORDER_CONSTANT, None, 0)\n",
    "\n",
    "            temp_img_list.append(cropped)\n",
    "            id_count += 1\n",
    "    except Exception:\n",
    "        i += 1\n",
    "        traceback.print_exc()\n",
    "        continue\n",
    "\n",
    "    id_count = 0\n",
    "    for y in temp_img_list:\n",
    "    #plt.imsave('testing_images_saved/' + words_temp_id[id_count] + '.jpg', y, cmap='gray')\n",
    "        plt.imsave('cropped/' + words_temp_id[id_count] + '.jpg', y, cmap='gray')\n",
    "        id_count += 1\n",
    "\n",
    "    if words_in_img is None:\n",
    "        words_in_img = words_temp.copy()\n",
    "    else:\n",
    "        words_in_img = pd.concat([words_in_img, words_temp])\n",
    "\n",
    "    words_in_img.to_csv('words_in_img.csv')\n",
    "    i += 1"
   ]
  },
  {
   "cell_type": "code",
   "execution_count": null,
   "metadata": {},
   "outputs": [],
   "source": []
  }
 ],
 "metadata": {
  "colab": {
   "provenance": []
  },
  "kernelspec": {
   "display_name": "Python 3 (ipykernel)",
   "language": "python",
   "name": "python3"
  },
  "language_info": {
   "codemirror_mode": {
    "name": "ipython",
    "version": 3
   },
   "file_extension": ".py",
   "mimetype": "text/x-python",
   "name": "python",
   "nbconvert_exporter": "python",
   "pygments_lexer": "ipython3",
   "version": "3.11.5"
  }
 },
 "nbformat": 4,
 "nbformat_minor": 4
}
